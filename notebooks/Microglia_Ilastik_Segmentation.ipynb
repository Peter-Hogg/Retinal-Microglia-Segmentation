{
 "cells": [
  {
   "cell_type": "code",
   "execution_count": 3,
   "id": "067e487a",
   "metadata": {},
   "outputs": [],
   "source": [
    "from aicsimageio.readers import CziReader\n",
    "from czifile import CziFile\n",
    "from tifffile import imread, imwrite\n",
    "\n",
    "import skimage.filters as filters\n",
    "\n",
    "from skimage.segmentation import slic, join_segmentations, watershed\n",
    "from skimage.morphology import remove_small_objects, remove_small_holes, skeletonize\n",
    "from skimage.measure import label\n",
    "import skimage.measure as measure\n",
    "from skimage.filters import threshold_otsu\n",
    "\n",
    "import h5py\n",
    "import math\n",
    "import matplotlib.pyplot as plt\n",
    "import matplotlib.image as mpimg\n",
    "import napari\n",
    "import numpy as np\n",
    "import numpy.ma as ma\n",
    "import pandas as pd\n",
    "import subprocess \n",
    "import os, sys"
   ]
  },
  {
   "cell_type": "code",
   "execution_count": 4,
   "id": "f46eb1b7",
   "metadata": {},
   "outputs": [],
   "source": [
    "%gui qt\n",
    "plt.rcParams[\"figure.figsize\"] = (16,8)"
   ]
  },
  {
   "cell_type": "code",
   "execution_count": 5,
   "id": "65c55438",
   "metadata": {},
   "outputs": [],
   "source": [
    "# Path to CZI File\n",
    "FILE_PATH = \"Retina_Images/2018-0153 OS Pie8 72F Mid-Peri Z-stack.czi\"\n",
    "\n",
    "# Path to ilastik launch script\n",
    "ILASTIK_LOC = '/home/peter/Applications/ilastik-1.3.3post3-Linux/run_ilastik.sh'\n",
    "\n",
    "#  Path to ilastik classifier project\n",
    "ILASTIK_PRO = \"Ilastik/microglia.ilp\"\n",
    "\n",
    "\n",
    "SEG_DIC = {0:\"Background\",\n",
    "          1:\"Vascular\",\n",
    "          2:\"Microglia\"\n",
    "         }\n",
    "\n",
    "XYZ_SCALE = (0.156, 0.156, 1) "
   ]
  },
  {
   "cell_type": "code",
   "execution_count": 6,
   "id": "81392738",
   "metadata": {},
   "outputs": [],
   "source": [
    "# Generate a temp tiff to segment\n",
    "retina = CziFile(FILE_PATH)\n",
    "\n",
    "images = retina.asarray()\n",
    "ch2 = images[0, 0, 2, :, :, : ]\n",
    "ch0 = images[0, 0, 0, :, :, : ]\n",
    "\n",
    "# Generate a temp image to send to Ilastik\n",
    "imwrite(\"temp.tif\", ch0)\n"
   ]
  },
  {
   "cell_type": "code",
   "execution_count": 5,
   "id": "19e82aba",
   "metadata": {
    "scrolled": true
   },
   "outputs": [
    {
     "name": "stderr",
     "output_type": "stream",
     "text": [
      "/home/peter/Applications/ilastik-1.3.3post3-Linux/ilastik-meta/lazyflow/lazyflow/classifiers/__init__.py:20: UserWarning: init: Could not import tiktorch classifier\n",
      "  warnings.warn(\"init: Could not import tiktorch classifier\")\n"
     ]
    },
    {
     "name": "stdout",
     "output_type": "stream",
     "text": [
      "INFO ilastik_main: Starting ilastik from \"/home/peter/Applications/ilastik-1.3.3post3-Linux\".\n"
     ]
    },
    {
     "name": "stderr",
     "output_type": "stream",
     "text": [
      "WARNING 2023-04-25 11:13:40,368 opConservationTracking 723067 140607101093696 Could not find any ILP solver\n",
      "WARNING 2023-04-25 11:13:40,379 opStructuredTracking 723067 140607101093696 Could not find any ILP solver\n",
      "WARNING 2023-04-25 11:13:40,381 structuredTrackingWorkflow 723067 140607101093696 Could not find any learning solver. Tracking will use flow-based solver (DPCT). Learning for tracking will be disabled!\n"
     ]
    },
    {
     "name": "stdout",
     "output_type": "stream",
     "text": [
      "Starting ilastik from \"/home/peter/Applications/ilastik-1.3.3post3-Linux\".\n",
      "INFO ilastik.shell.projectManager: Opening Project: Ilastik/microglia.ilp\n"
     ]
    },
    {
     "name": "stderr",
     "output_type": "stream",
     "text": [
      "WARNING dataset.py(313): H5pyDeprecationWarning: dataset.value has been deprecated. Use dataset[()] instead.\n",
      "WARNING opSimpleBlockedArrayCache.py(43): FutureWarning: Conversion of the second argument of issubdtype from `dtype` to `np.generic` is deprecated. In future, it will be treated as `np.object_ == np.dtype(dtype).type`.\n",
      "WARNING opSlicedBlockedArrayCache.py(141): FutureWarning: Conversion of the second argument of issubdtype from `dtype` to `np.generic` is deprecated. In future, it will be treated as `np.object_ == np.dtype(dtype).type`.\n",
      "WARNING 2023-04-25 11:13:54,206 pixelClassificationWorkflow 723067 140607101093696 Your project file has no classifier.  A new classifier will be trained for this run.\n"
     ]
    },
    {
     "name": "stdout",
     "output_type": "stream",
     "text": [
      "INFO ilastik.workflows.pixelClassification.pixelClassificationWorkflow: Beginning Batch Processing\n",
      "INFO ilastik.applets.batchProcessing.batchProcessingApplet: Exporting to /mnt/5404b8a5-71b7-4464-9a1e-b40cd26fac58/Data_Drive/Wissam/Retina_Project/temp_Probabilities.h5/exported_data\n",
      "INFO lazyflow.operators.ioOperators.ioOperators.OpH5N5WriterBigDataset: Data shape: (28, 2048, 2048, 3)\n",
      "INFO lazyflow.utility.bigRequestStreamer: Estimated RAM usage per pixel is 196.0B * safety factor (2.0)\n",
      "INFO lazyflow.utility.bigRequestStreamer: determining blockshape assuming available_ram is 22.7GiB, split between 6 threads\n",
      "INFO lazyflow.utility.bigRequestStreamer: Chose blockshape: (28, 609, 608, 3)\n",
      "INFO lazyflow.utility.bigRequestStreamer: Estimated RAM usage per block is 3.8GiB\n",
      "DEBUG lazyflow.operators.classifierOperators: Training: 00% (Computing features)\n",
      "DEBUG lazyflow.operators.classifierOperators: Training: 00% (Computing features)\n",
      "DEBUG lazyflow.operators.classifierOperators: Training: 00% (Computing features)\n",
      "DEBUG lazyflow.operators.classifierOperators: Training: 00% (Computing features)\n",
      "DEBUG lazyflow.operators.classifierOperators: Training: 00% (Computing features)\n",
      "DEBUG lazyflow.operators.classifierOperators: Training: 00% (Computing features)\n",
      "DEBUG lazyflow.operators.classifierOperators: Training: 00% (Computing features)\n"
     ]
    },
    {
     "name": "stderr",
     "output_type": "stream",
     "text": [
      "Warning: TIFFDecoder: no TIFFTAG_SAMPLEFORMAT or TIFFTAG_DATATYPE, guessing pixeltype 'UINT16'.\n",
      "Warning: TIFFDecoder: no TIFFTAG_SAMPLEFORMAT or TIFFTAG_DATATYPE, guessing pixeltype 'UINT16'.\n",
      "Warning: TIFFDecoder: no TIFFTAG_SAMPLEFORMAT or TIFFTAG_DATATYPE, guessing pixeltype 'UINT16'.\n",
      "Warning: TIFFDecoder: no TIFFTAG_SAMPLEFORMAT or TIFFTAG_DATATYPE, guessing pixeltype 'UINT16'.\n",
      "Warning: TIFFDecoder: no TIFFTAG_SAMPLEFORMAT or TIFFTAG_DATATYPE, guessing pixeltype 'UINT16'.\n",
      "Warning: TIFFDecoder: no TIFFTAG_SAMPLEFORMAT or TIFFTAG_DATATYPE, guessing pixeltype 'UINT16'.\n"
     ]
    },
    {
     "name": "stdout",
     "output_type": "stream",
     "text": [
      "DEBUG lazyflow.operators.classifierOperators: Training: 00% (Computing features)\n",
      "DEBUG lazyflow.operators.classifierOperators: Training: 00% (Computing features)\n"
     ]
    },
    {
     "name": "stderr",
     "output_type": "stream",
     "text": [
      "Warning: TIFFDecoder: no TIFFTAG_SAMPLEFORMAT or TIFFTAG_DATATYPE, guessing pixeltype 'UINT16'.\n",
      "Warning: TIFFDecoder: no TIFFTAG_SAMPLEFORMAT or TIFFTAG_DATATYPE, guessing pixeltype 'UINT16'.\n",
      "Warning: TIFFDecoder: no TIFFTAG_SAMPLEFORMAT or TIFFTAG_DATATYPE, guessing pixeltype 'UINT16'.\n",
      "Warning: TIFFDecoder: no TIFFTAG_SAMPLEFORMAT or TIFFTAG_DATATYPE, guessing pixeltype 'UINT16'.\n",
      "Warning: TIFFDecoder: no TIFFTAG_SAMPLEFORMAT or TIFFTAG_DATATYPE, guessing pixeltype 'UINT16'.\n",
      "Warning: TIFFDecoder: no TIFFTAG_SAMPLEFORMAT or TIFFTAG_DATATYPE, guessing pixeltype 'UINT16'.\n",
      "Warning: TIFFDecoder: no TIFFTAG_SAMPLEFORMAT or TIFFTAG_DATATYPE, guessing pixeltype 'UINT16'.\n",
      "Warning: TIFFDecoder: no TIFFTAG_SAMPLEFORMAT or TIFFTAG_DATATYPE, guessing pixeltype 'UINT16'.\n",
      "Warning: TIFFDecoder: no TIFFTAG_SAMPLEFORMAT or TIFFTAG_DATATYPE, guessing pixeltype 'UINT16'.\n",
      "Warning: TIFFDecoder: no TIFFTAG_SAMPLEFORMAT or TIFFTAG_DATATYPE, guessing pixeltype 'UINT16'.\n",
      "Warning: TIFFDecoder: no TIFFTAG_SAMPLEFORMAT or TIFFTAG_DATATYPE, guessing pixeltype 'UINT16'.\n",
      "Warning: TIFFDecoder: no TIFFTAG_SAMPLEFORMAT or TIFFTAG_DATATYPE, guessing pixeltype 'UINT16'.\n",
      "Warning: TIFFDecoder: no TIFFTAG_SAMPLEFORMAT or TIFFTAG_DATATYPE, guessing pixeltype 'UINT16'.\n",
      "Warning: TIFFDecoder: no TIFFTAG_SAMPLEFORMAT or TIFFTAG_DATATYPE, guessing pixeltype 'UINT16'.\n",
      "Warning: TIFFDecoder: no TIFFTAG_SAMPLEFORMAT or TIFFTAG_DATATYPE, guessing pixeltype 'UINT16'.\n",
      "Warning: TIFFDecoder: no TIFFTAG_SAMPLEFORMAT or TIFFTAG_DATATYPE, guessing pixeltype 'UINT16'.\n"
     ]
    },
    {
     "name": "stdout",
     "output_type": "stream",
     "text": [
      "DEBUG lazyflow.operators.classifierOperators: Training: 00% (Computing features)\n"
     ]
    },
    {
     "name": "stderr",
     "output_type": "stream",
     "text": [
      "Warning: TIFFDecoder: no TIFFTAG_SAMPLEFORMAT or TIFFTAG_DATATYPE, guessing pixeltype 'UINT16'.\n",
      "Warning: TIFFDecoder: no TIFFTAG_SAMPLEFORMAT or TIFFTAG_DATATYPE, guessing pixeltype 'UINT16'.\n",
      "Warning: TIFFDecoder: no TIFFTAG_SAMPLEFORMAT or TIFFTAG_DATATYPE, guessing pixeltype 'UINT16'.\n",
      "Warning: TIFFDecoder: no TIFFTAG_SAMPLEFORMAT or TIFFTAG_DATATYPE, guessing pixeltype 'UINT16'.\n",
      "Warning: TIFFDecoder: no TIFFTAG_SAMPLEFORMAT or TIFFTAG_DATATYPE, guessing pixeltype 'UINT16'.\n",
      "Warning: TIFFDecoder: no TIFFTAG_SAMPLEFORMAT or TIFFTAG_DATATYPE, guessing pixeltype 'UINT16'.\n",
      "Warning: TIFFDecoder: no TIFFTAG_SAMPLEFORMAT or TIFFTAG_DATATYPE, guessing pixeltype 'UINT16'.\n",
      "Warning: TIFFDecoder: no TIFFTAG_SAMPLEFORMAT or TIFFTAG_DATATYPE, guessing pixeltype 'UINT16'.\n",
      "Warning: TIFFDecoder: no TIFFTAG_SAMPLEFORMAT or TIFFTAG_DATATYPE, guessing pixeltype 'UINT16'.\n",
      "Warning: TIFFDecoder: no TIFFTAG_SAMPLEFORMAT or TIFFTAG_DATATYPE, guessing pixeltype 'UINT16'.\n"
     ]
    },
    {
     "name": "stdout",
     "output_type": "stream",
     "text": [
      "DEBUG lazyflow.operators.classifierOperators: Training: 00% (Computing features)\n",
      "DEBUG lazyflow.operators.classifierOperators: Training: 00% (Computing features)\n"
     ]
    },
    {
     "name": "stderr",
     "output_type": "stream",
     "text": [
      "Warning: TIFFDecoder: no TIFFTAG_SAMPLEFORMAT or TIFFTAG_DATATYPE, guessing pixeltype 'UINT16'.\n",
      "Warning: TIFFDecoder: no TIFFTAG_SAMPLEFORMAT or TIFFTAG_DATATYPE, guessing pixeltype 'UINT16'.\n",
      "Warning: TIFFDecoder: no TIFFTAG_SAMPLEFORMAT or TIFFTAG_DATATYPE, guessing pixeltype 'UINT16'.\n",
      "Warning: TIFFDecoder: no TIFFTAG_SAMPLEFORMAT or TIFFTAG_DATATYPE, guessing pixeltype 'UINT16'.\n",
      "Warning: TIFFDecoder: no TIFFTAG_SAMPLEFORMAT or TIFFTAG_DATATYPE, guessing pixeltype 'UINT16'.\n",
      "Warning: TIFFDecoder: no TIFFTAG_SAMPLEFORMAT or TIFFTAG_DATATYPE, guessing pixeltype 'UINT16'.\n",
      "Warning: TIFFDecoder: no TIFFTAG_SAMPLEFORMAT or TIFFTAG_DATATYPE, guessing pixeltype 'UINT16'.\n",
      "Warning: TIFFDecoder: no TIFFTAG_SAMPLEFORMAT or TIFFTAG_DATATYPE, guessing pixeltype 'UINT16'.\n",
      "Warning: TIFFDecoder: no TIFFTAG_SAMPLEFORMAT or TIFFTAG_DATATYPE, guessing pixeltype 'UINT16'.\n",
      "Warning: TIFFDecoder: no TIFFTAG_SAMPLEFORMAT or TIFFTAG_DATATYPE, guessing pixeltype 'UINT16'.\n",
      "Warning: TIFFDecoder: no TIFFTAG_SAMPLEFORMAT or TIFFTAG_DATATYPE, guessing pixeltype 'UINT16'.\n",
      "Warning: TIFFDecoder: no TIFFTAG_SAMPLEFORMAT or TIFFTAG_DATATYPE, guessing pixeltype 'UINT16'.\n",
      "Warning: TIFFDecoder: no TIFFTAG_SAMPLEFORMAT or TIFFTAG_DATATYPE, guessing pixeltype 'UINT16'.\n",
      "Warning: TIFFDecoder: no TIFFTAG_SAMPLEFORMAT or TIFFTAG_DATATYPE, guessing pixeltype 'UINT16'.\n",
      "Warning: TIFFDecoder: no TIFFTAG_SAMPLEFORMAT or TIFFTAG_DATATYPE, guessing pixeltype 'UINT16'.\n",
      "Warning: TIFFDecoder: no TIFFTAG_SAMPLEFORMAT or TIFFTAG_DATATYPE, guessing pixeltype 'UINT16'.\n",
      "Warning: TIFFDecoder: no TIFFTAG_SAMPLEFORMAT or TIFFTAG_DATATYPE, guessing pixeltype 'UINT16'.\n",
      "Warning: TIFFDecoder: no TIFFTAG_SAMPLEFORMAT or TIFFTAG_DATATYPE, guessing pixeltype 'UINT16'.\n",
      "Warning: TIFFDecoder: no TIFFTAG_SAMPLEFORMAT or TIFFTAG_DATATYPE, guessing pixeltype 'UINT16'.\n",
      "Warning: TIFFDecoder: no TIFFTAG_SAMPLEFORMAT or TIFFTAG_DATATYPE, guessing pixeltype 'UINT16'.\n",
      "Warning: TIFFDecoder: no TIFFTAG_SAMPLEFORMAT or TIFFTAG_DATATYPE, guessing pixeltype 'UINT16'.\n",
      "Warning: TIFFDecoder: no TIFFTAG_SAMPLEFORMAT or TIFFTAG_DATATYPE, guessing pixeltype 'UINT16'.\n",
      "Warning: TIFFDecoder: no TIFFTAG_SAMPLEFORMAT or TIFFTAG_DATATYPE, guessing pixeltype 'UINT16'.\n",
      "Warning: TIFFDecoder: no TIFFTAG_SAMPLEFORMAT or TIFFTAG_DATATYPE, guessing pixeltype 'UINT16'.\n"
     ]
    },
    {
     "name": "stdout",
     "output_type": "stream",
     "text": [
      "DEBUG lazyflow.operators.classifierOperators: Training: 00% (Computing features)\n",
      "DEBUG lazyflow.operators.classifierOperators: Training: 00% (Computing features)\n"
     ]
    },
    {
     "name": "stderr",
     "output_type": "stream",
     "text": [
      "Warning: TIFFDecoder: no TIFFTAG_SAMPLEFORMAT or TIFFTAG_DATATYPE, guessing pixeltype 'UINT16'.\n",
      "Warning: TIFFDecoder: no TIFFTAG_SAMPLEFORMAT or TIFFTAG_DATATYPE, guessing pixeltype 'UINT16'.\n",
      "Warning: TIFFDecoder: no TIFFTAG_SAMPLEFORMAT or TIFFTAG_DATATYPE, guessing pixeltype 'UINT16'.\n",
      "Warning: TIFFDecoder: no TIFFTAG_SAMPLEFORMAT or TIFFTAG_DATATYPE, guessing pixeltype 'UINT16'.\n",
      "Warning: TIFFDecoder: no TIFFTAG_SAMPLEFORMAT or TIFFTAG_DATATYPE, guessing pixeltype 'UINT16'.\n",
      "Warning: TIFFDecoder: no TIFFTAG_SAMPLEFORMAT or TIFFTAG_DATATYPE, guessing pixeltype 'UINT16'.\n",
      "Warning: TIFFDecoder: no TIFFTAG_SAMPLEFORMAT or TIFFTAG_DATATYPE, guessing pixeltype 'UINT16'.\n",
      "Warning: TIFFDecoder: no TIFFTAG_SAMPLEFORMAT or TIFFTAG_DATATYPE, guessing pixeltype 'UINT16'.\n",
      "Warning: TIFFDecoder: no TIFFTAG_SAMPLEFORMAT or TIFFTAG_DATATYPE, guessing pixeltype 'UINT16'.\n",
      "Warning: TIFFDecoder: no TIFFTAG_SAMPLEFORMAT or TIFFTAG_DATATYPE, guessing pixeltype 'UINT16'.\n"
     ]
    },
    {
     "name": "stdout",
     "output_type": "stream",
     "text": [
      "DEBUG lazyflow.operators.classifierOperators: Training: 00% (Computing features)\n",
      "DEBUG lazyflow.operators.classifierOperators: Training: 01% (Computing features)\n",
      "DEBUG lazyflow.operators.classifierOperators: Training: 01% (Computing features)\n"
     ]
    },
    {
     "name": "stderr",
     "output_type": "stream",
     "text": [
      "Warning: TIFFDecoder: no TIFFTAG_SAMPLEFORMAT or TIFFTAG_DATATYPE, guessing pixeltype 'UINT16'.\n",
      "Warning: TIFFDecoder: no TIFFTAG_SAMPLEFORMAT or TIFFTAG_DATATYPE, guessing pixeltype 'UINT16'.\n",
      "Warning: TIFFDecoder: no TIFFTAG_SAMPLEFORMAT or TIFFTAG_DATATYPE, guessing pixeltype 'UINT16'.\n",
      "Warning: TIFFDecoder: no TIFFTAG_SAMPLEFORMAT or TIFFTAG_DATATYPE, guessing pixeltype 'UINT16'.\n",
      "Warning: TIFFDecoder: no TIFFTAG_SAMPLEFORMAT or TIFFTAG_DATATYPE, guessing pixeltype 'UINT16'.\n",
      "Warning: TIFFDecoder: no TIFFTAG_SAMPLEFORMAT or TIFFTAG_DATATYPE, guessing pixeltype 'UINT16'.\n",
      "Warning: TIFFDecoder: no TIFFTAG_SAMPLEFORMAT or TIFFTAG_DATATYPE, guessing pixeltype 'UINT16'.\n",
      "Warning: TIFFDecoder: no TIFFTAG_SAMPLEFORMAT or TIFFTAG_DATATYPE, guessing pixeltype 'UINT16'.\n",
      "Warning: TIFFDecoder: no TIFFTAG_SAMPLEFORMAT or TIFFTAG_DATATYPE, guessing pixeltype 'UINT16'.\n",
      "Warning: TIFFDecoder: no TIFFTAG_SAMPLEFORMAT or TIFFTAG_DATATYPE, guessing pixeltype 'UINT16'.\n",
      "Warning: TIFFDecoder: no TIFFTAG_SAMPLEFORMAT or TIFFTAG_DATATYPE, guessing pixeltype 'UINT16'.\n",
      "Warning: TIFFDecoder: no TIFFTAG_SAMPLEFORMAT or TIFFTAG_DATATYPE, guessing pixeltype 'UINT16'.\n",
      "Warning: TIFFDecoder: no TIFFTAG_SAMPLEFORMAT or TIFFTAG_DATATYPE, guessing pixeltype 'UINT16'.\n",
      "Warning: TIFFDecoder: no TIFFTAG_SAMPLEFORMAT or TIFFTAG_DATATYPE, guessing pixeltype 'UINT16'.\n",
      "Warning: TIFFDecoder: no TIFFTAG_SAMPLEFORMAT or TIFFTAG_DATATYPE, guessing pixeltype 'UINT16'.\n",
      "Warning: TIFFDecoder: no TIFFTAG_SAMPLEFORMAT or TIFFTAG_DATATYPE, guessing pixeltype 'UINT16'.\n",
      "Warning: TIFFDecoder: no TIFFTAG_SAMPLEFORMAT or TIFFTAG_DATATYPE, guessing pixeltype 'UINT16'.\n",
      "Warning: TIFFDecoder: no TIFFTAG_SAMPLEFORMAT or TIFFTAG_DATATYPE, guessing pixeltype 'UINT16'.\n",
      "Warning: TIFFDecoder: no TIFFTAG_SAMPLEFORMAT or TIFFTAG_DATATYPE, guessing pixeltype 'UINT16'.\n",
      "Warning: TIFFDecoder: no TIFFTAG_SAMPLEFORMAT or TIFFTAG_DATATYPE, guessing pixeltype 'UINT16'.\n",
      "Warning: TIFFDecoder: no TIFFTAG_SAMPLEFORMAT or TIFFTAG_DATATYPE, guessing pixeltype 'UINT16'.\n",
      "Warning: TIFFDecoder: no TIFFTAG_SAMPLEFORMAT or TIFFTAG_DATATYPE, guessing pixeltype 'UINT16'.\n",
      "Warning: TIFFDecoder: no TIFFTAG_SAMPLEFORMAT or TIFFTAG_DATATYPE, guessing pixeltype 'UINT16'.\n",
      "Warning: TIFFDecoder: no TIFFTAG_SAMPLEFORMAT or TIFFTAG_DATATYPE, guessing pixeltype 'UINT16'.\n"
     ]
    },
    {
     "name": "stdout",
     "output_type": "stream",
     "text": [
      "DEBUG lazyflow.operators.classifierOperators: Training: 01% (Computing features)\n"
     ]
    },
    {
     "name": "stderr",
     "output_type": "stream",
     "text": [
      "Warning: TIFFDecoder: no TIFFTAG_SAMPLEFORMAT or TIFFTAG_DATATYPE, guessing pixeltype 'UINT16'.\n",
      "Warning: TIFFDecoder: no TIFFTAG_SAMPLEFORMAT or TIFFTAG_DATATYPE, guessing pixeltype 'UINT16'.\n",
      "Warning: TIFFDecoder: no TIFFTAG_SAMPLEFORMAT or TIFFTAG_DATATYPE, guessing pixeltype 'UINT16'.\n",
      "Warning: TIFFDecoder: no TIFFTAG_SAMPLEFORMAT or TIFFTAG_DATATYPE, guessing pixeltype 'UINT16'.\n",
      "Warning: TIFFDecoder: no TIFFTAG_SAMPLEFORMAT or TIFFTAG_DATATYPE, guessing pixeltype 'UINT16'.\n",
      "Warning: TIFFDecoder: no TIFFTAG_SAMPLEFORMAT or TIFFTAG_DATATYPE, guessing pixeltype 'UINT16'.\n",
      "Warning: TIFFDecoder: no TIFFTAG_SAMPLEFORMAT or TIFFTAG_DATATYPE, guessing pixeltype 'UINT16'.\n",
      "Warning: TIFFDecoder: no TIFFTAG_SAMPLEFORMAT or TIFFTAG_DATATYPE, guessing pixeltype 'UINT16'.\n",
      "Warning: TIFFDecoder: no TIFFTAG_SAMPLEFORMAT or TIFFTAG_DATATYPE, guessing pixeltype 'UINT16'.\n",
      "Warning: TIFFDecoder: no TIFFTAG_SAMPLEFORMAT or TIFFTAG_DATATYPE, guessing pixeltype 'UINT16'.\n",
      "Warning: TIFFDecoder: no TIFFTAG_SAMPLEFORMAT or TIFFTAG_DATATYPE, guessing pixeltype 'UINT16'.\n",
      "Warning: TIFFDecoder: no TIFFTAG_SAMPLEFORMAT or TIFFTAG_DATATYPE, guessing pixeltype 'UINT16'.\n",
      "Warning: TIFFDecoder: no TIFFTAG_SAMPLEFORMAT or TIFFTAG_DATATYPE, guessing pixeltype 'UINT16'.\n",
      "Warning: TIFFDecoder: no TIFFTAG_SAMPLEFORMAT or TIFFTAG_DATATYPE, guessing pixeltype 'UINT16'.\n",
      "Warning: TIFFDecoder: no TIFFTAG_SAMPLEFORMAT or TIFFTAG_DATATYPE, guessing pixeltype 'UINT16'.\n",
      "Warning: TIFFDecoder: no TIFFTAG_SAMPLEFORMAT or TIFFTAG_DATATYPE, guessing pixeltype 'UINT16'.\n",
      "Warning: TIFFDecoder: no TIFFTAG_SAMPLEFORMAT or TIFFTAG_DATATYPE, guessing pixeltype 'UINT16'.\n",
      "Warning: TIFFDecoder: no TIFFTAG_SAMPLEFORMAT or TIFFTAG_DATATYPE, guessing pixeltype 'UINT16'.\n",
      "Warning: TIFFDecoder: no TIFFTAG_SAMPLEFORMAT or TIFFTAG_DATATYPE, guessing pixeltype 'UINT16'.\n",
      "Warning: TIFFDecoder: no TIFFTAG_SAMPLEFORMAT or TIFFTAG_DATATYPE, guessing pixeltype 'UINT16'.\n",
      "Warning: TIFFDecoder: no TIFFTAG_SAMPLEFORMAT or TIFFTAG_DATATYPE, guessing pixeltype 'UINT16'.\n",
      "Warning: TIFFDecoder: no TIFFTAG_SAMPLEFORMAT or TIFFTAG_DATATYPE, guessing pixeltype 'UINT16'.\n",
      "Warning: TIFFDecoder: no TIFFTAG_SAMPLEFORMAT or TIFFTAG_DATATYPE, guessing pixeltype 'UINT16'.\n",
      "Warning: TIFFDecoder: no TIFFTAG_SAMPLEFORMAT or TIFFTAG_DATATYPE, guessing pixeltype 'UINT16'.\n",
      "Warning: TIFFDecoder: no TIFFTAG_SAMPLEFORMAT or TIFFTAG_DATATYPE, guessing pixeltype 'UINT16'.\n",
      "Warning: TIFFDecoder: no TIFFTAG_SAMPLEFORMAT or TIFFTAG_DATATYPE, guessing pixeltype 'UINT16'.\n",
      "Warning: TIFFDecoder: no TIFFTAG_SAMPLEFORMAT or TIFFTAG_DATATYPE, guessing pixeltype 'UINT16'.\n",
      "Warning: TIFFDecoder: no TIFFTAG_SAMPLEFORMAT or TIFFTAG_DATATYPE, guessing pixeltype 'UINT16'.\n",
      "Warning: TIFFDecoder: no TIFFTAG_SAMPLEFORMAT or TIFFTAG_DATATYPE, guessing pixeltype 'UINT16'.\n",
      "Warning: TIFFDecoder: no TIFFTAG_SAMPLEFORMAT or TIFFTAG_DATATYPE, guessing pixeltype 'UINT16'.\n",
      "Warning: TIFFDecoder: no TIFFTAG_SAMPLEFORMAT or TIFFTAG_DATATYPE, guessing pixeltype 'UINT16'.\n",
      "Warning: TIFFDecoder: no TIFFTAG_SAMPLEFORMAT or TIFFTAG_DATATYPE, guessing pixeltype 'UINT16'.\n",
      "Warning: TIFFDecoder: no TIFFTAG_SAMPLEFORMAT or TIFFTAG_DATATYPE, guessing pixeltype 'UINT16'.\n",
      "Warning: TIFFDecoder: no TIFFTAG_SAMPLEFORMAT or TIFFTAG_DATATYPE, guessing pixeltype 'UINT16'.\n",
      "Warning: TIFFDecoder: no TIFFTAG_SAMPLEFORMAT or TIFFTAG_DATATYPE, guessing pixeltype 'UINT16'.\n",
      "Warning: TIFFDecoder: no TIFFTAG_SAMPLEFORMAT or TIFFTAG_DATATYPE, guessing pixeltype 'UINT16'.\n",
      "Warning: TIFFDecoder: no TIFFTAG_SAMPLEFORMAT or TIFFTAG_DATATYPE, guessing pixeltype 'UINT16'.\n",
      "Warning: TIFFDecoder: no TIFFTAG_SAMPLEFORMAT or TIFFTAG_DATATYPE, guessing pixeltype 'UINT16'.\n",
      "Warning: TIFFDecoder: no TIFFTAG_SAMPLEFORMAT or TIFFTAG_DATATYPE, guessing pixeltype 'UINT16'.\n",
      "Warning: TIFFDecoder: no TIFFTAG_SAMPLEFORMAT or TIFFTAG_DATATYPE, guessing pixeltype 'UINT16'.\n",
      "Warning: TIFFDecoder: no TIFFTAG_SAMPLEFORMAT or TIFFTAG_DATATYPE, guessing pixeltype 'UINT16'.\n",
      "Warning: TIFFDecoder: no TIFFTAG_SAMPLEFORMAT or TIFFTAG_DATATYPE, guessing pixeltype 'UINT16'.\n",
      "Warning: TIFFDecoder: no TIFFTAG_SAMPLEFORMAT or TIFFTAG_DATATYPE, guessing pixeltype 'UINT16'.\n",
      "Warning: TIFFDecoder: no TIFFTAG_SAMPLEFORMAT or TIFFTAG_DATATYPE, guessing pixeltype 'UINT16'.\n",
      "Warning: TIFFDecoder: no TIFFTAG_SAMPLEFORMAT or TIFFTAG_DATATYPE, guessing pixeltype 'UINT16'.\n",
      "Warning: TIFFDecoder: no TIFFTAG_SAMPLEFORMAT or TIFFTAG_DATATYPE, guessing pixeltype 'UINT16'.\n",
      "Warning: TIFFDecoder: no TIFFTAG_SAMPLEFORMAT or TIFFTAG_DATATYPE, guessing pixeltype 'UINT16'.\n",
      "Warning: TIFFDecoder: no TIFFTAG_SAMPLEFORMAT or TIFFTAG_DATATYPE, guessing pixeltype 'UINT16'.\n",
      "Warning: TIFFDecoder: no TIFFTAG_SAMPLEFORMAT or TIFFTAG_DATATYPE, guessing pixeltype 'UINT16'.\n",
      "Warning: TIFFDecoder: no TIFFTAG_SAMPLEFORMAT or TIFFTAG_DATATYPE, guessing pixeltype 'UINT16'.\n"
     ]
    },
    {
     "name": "stdout",
     "output_type": "stream",
     "text": [
      "DEBUG lazyflow.operators.classifierOperators: Training: 01% (Computing features)\n",
      "DEBUG lazyflow.operators.classifierOperators: Training: 01% (Computing features)\n",
      "DEBUG lazyflow.operators.classifierOperators: Training: 01% (Computing features)\n",
      "DEBUG lazyflow.operators.classifierOperators: Training: 01% (Computing features)\n",
      "DEBUG lazyflow.operators.classifierOperators: Training: 01% (Computing features)\n",
      "DEBUG lazyflow.operators.classifierOperators: Training: 02% (Computing features)\n"
     ]
    },
    {
     "name": "stderr",
     "output_type": "stream",
     "text": [
      "Warning: TIFFDecoder: no TIFFTAG_SAMPLEFORMAT or TIFFTAG_DATATYPE, guessing pixeltype 'UINT16'.\n",
      "Warning: TIFFDecoder: no TIFFTAG_SAMPLEFORMAT or TIFFTAG_DATATYPE, guessing pixeltype 'UINT16'.\n",
      "Warning: TIFFDecoder: no TIFFTAG_SAMPLEFORMAT or TIFFTAG_DATATYPE, guessing pixeltype 'UINT16'.\n",
      "Warning: TIFFDecoder: no TIFFTAG_SAMPLEFORMAT or TIFFTAG_DATATYPE, guessing pixeltype 'UINT16'.\n",
      "Warning: TIFFDecoder: no TIFFTAG_SAMPLEFORMAT or TIFFTAG_DATATYPE, guessing pixeltype 'UINT16'.\n",
      "Warning: TIFFDecoder: no TIFFTAG_SAMPLEFORMAT or TIFFTAG_DATATYPE, guessing pixeltype 'UINT16'.\n",
      "Warning: TIFFDecoder: no TIFFTAG_SAMPLEFORMAT or TIFFTAG_DATATYPE, guessing pixeltype 'UINT16'.\n",
      "Warning: TIFFDecoder: no TIFFTAG_SAMPLEFORMAT or TIFFTAG_DATATYPE, guessing pixeltype 'UINT16'.\n"
     ]
    },
    {
     "name": "stdout",
     "output_type": "stream",
     "text": [
      "DEBUG lazyflow.operators.classifierOperators: Training: 02% (Computing features)\n",
      "DEBUG lazyflow.operators.classifierOperators: Training: 02% (Computing features)\n",
      "DEBUG lazyflow.operators.classifierOperators: Training: 02% (Computing features)\n",
      "DEBUG lazyflow.operators.classifierOperators: Training: 02% (Computing features)\n",
      "DEBUG lazyflow.operators.classifierOperators: Training: 02% (Computing features)\n",
      "DEBUG lazyflow.operators.classifierOperators: Training: 02% (Computing features)\n",
      "DEBUG lazyflow.operators.classifierOperators: Training: 02% (Computing features)\n"
     ]
    },
    {
     "name": "stderr",
     "output_type": "stream",
     "text": [
      "Warning: TIFFDecoder: no TIFFTAG_SAMPLEFORMAT or TIFFTAG_DATATYPE, guessing pixeltype 'UINT16'.\n",
      "Warning: TIFFDecoder: no TIFFTAG_SAMPLEFORMAT or TIFFTAG_DATATYPE, guessing pixeltype 'UINT16'.\n",
      "Warning: TIFFDecoder: no TIFFTAG_SAMPLEFORMAT or TIFFTAG_DATATYPE, guessing pixeltype 'UINT16'.\n",
      "Warning: TIFFDecoder: no TIFFTAG_SAMPLEFORMAT or TIFFTAG_DATATYPE, guessing pixeltype 'UINT16'.\n",
      "Warning: TIFFDecoder: no TIFFTAG_SAMPLEFORMAT or TIFFTAG_DATATYPE, guessing pixeltype 'UINT16'.\n",
      "Warning: TIFFDecoder: no TIFFTAG_SAMPLEFORMAT or TIFFTAG_DATATYPE, guessing pixeltype 'UINT16'.\n"
     ]
    },
    {
     "name": "stdout",
     "output_type": "stream",
     "text": [
      "DEBUG lazyflow.operators.classifierOperators: Training: 02% (Computing features)\n",
      "DEBUG lazyflow.operators.classifierOperators: Training: 05% (Computing features)\n",
      "DEBUG lazyflow.operators.classifierOperators: Training: 05% (Computing features)\n"
     ]
    },
    {
     "name": "stderr",
     "output_type": "stream",
     "text": [
      "Warning: TIFFDecoder: no TIFFTAG_SAMPLEFORMAT or TIFFTAG_DATATYPE, guessing pixeltype 'UINT16'.\n",
      "Warning: TIFFDecoder: no TIFFTAG_SAMPLEFORMAT or TIFFTAG_DATATYPE, guessing pixeltype 'UINT16'.\n",
      "Warning: TIFFDecoder: no TIFFTAG_SAMPLEFORMAT or TIFFTAG_DATATYPE, guessing pixeltype 'UINT16'.\n",
      "Warning: TIFFDecoder: no TIFFTAG_SAMPLEFORMAT or TIFFTAG_DATATYPE, guessing pixeltype 'UINT16'.\n"
     ]
    },
    {
     "name": "stdout",
     "output_type": "stream",
     "text": [
      "DEBUG lazyflow.operators.classifierOperators: Training: 05% (Computing features)\n"
     ]
    },
    {
     "name": "stderr",
     "output_type": "stream",
     "text": [
      "Warning: TIFFDecoder: no TIFFTAG_SAMPLEFORMAT or TIFFTAG_DATATYPE, guessing pixeltype 'UINT16'.\n",
      "Warning: TIFFDecoder: no TIFFTAG_SAMPLEFORMAT or TIFFTAG_DATATYPE, guessing pixeltype 'UINT16'.\n",
      "Warning: TIFFDecoder: no TIFFTAG_SAMPLEFORMAT or TIFFTAG_DATATYPE, guessing pixeltype 'UINT16'.\n",
      "Warning: TIFFDecoder: no TIFFTAG_SAMPLEFORMAT or TIFFTAG_DATATYPE, guessing pixeltype 'UINT16'.\n",
      "Warning: TIFFDecoder: no TIFFTAG_SAMPLEFORMAT or TIFFTAG_DATATYPE, guessing pixeltype 'UINT16'.\n",
      "Warning: TIFFDecoder: no TIFFTAG_SAMPLEFORMAT or TIFFTAG_DATATYPE, guessing pixeltype 'UINT16'.\n"
     ]
    },
    {
     "name": "stdout",
     "output_type": "stream",
     "text": [
      "DEBUG lazyflow.operators.classifierOperators: Training: 05% (Computing features)\n",
      "DEBUG lazyflow.operators.classifierOperators: Training: 05% (Computing features)\n",
      "DEBUG lazyflow.operators.classifierOperators: Training: 08% (Computing features)\n",
      "DEBUG lazyflow.operators.classifierOperators: Training: 08% (Computing features)\n"
     ]
    },
    {
     "name": "stderr",
     "output_type": "stream",
     "text": [
      "Warning: TIFFDecoder: no TIFFTAG_SAMPLEFORMAT or TIFFTAG_DATATYPE, guessing pixeltype 'UINT16'.\n",
      "Warning: TIFFDecoder: no TIFFTAG_SAMPLEFORMAT or TIFFTAG_DATATYPE, guessing pixeltype 'UINT16'.\n",
      "Warning: TIFFDecoder: no TIFFTAG_SAMPLEFORMAT or TIFFTAG_DATATYPE, guessing pixeltype 'UINT16'.\n",
      "Warning: TIFFDecoder: no TIFFTAG_SAMPLEFORMAT or TIFFTAG_DATATYPE, guessing pixeltype 'UINT16'.\n",
      "Warning: TIFFDecoder: no TIFFTAG_SAMPLEFORMAT or TIFFTAG_DATATYPE, guessing pixeltype 'UINT16'.\n"
     ]
    },
    {
     "name": "stdout",
     "output_type": "stream",
     "text": [
      "DEBUG lazyflow.operators.classifierOperators: Training: 08% (Computing features)\n",
      "DEBUG lazyflow.operators.classifierOperators: Training: 10% (Computing features)\n"
     ]
    },
    {
     "name": "stderr",
     "output_type": "stream",
     "text": [
      "Warning: TIFFDecoder: no TIFFTAG_SAMPLEFORMAT or TIFFTAG_DATATYPE, guessing pixeltype 'UINT16'.\n",
      "Warning: TIFFDecoder: no TIFFTAG_SAMPLEFORMAT or TIFFTAG_DATATYPE, guessing pixeltype 'UINT16'.\n",
      "Warning: TIFFDecoder: no TIFFTAG_SAMPLEFORMAT or TIFFTAG_DATATYPE, guessing pixeltype 'UINT16'.\n",
      "Warning: TIFFDecoder: no TIFFTAG_SAMPLEFORMAT or TIFFTAG_DATATYPE, guessing pixeltype 'UINT16'.\n",
      "Warning: TIFFDecoder: no TIFFTAG_SAMPLEFORMAT or TIFFTAG_DATATYPE, guessing pixeltype 'UINT16'.\n",
      "Warning: TIFFDecoder: no TIFFTAG_SAMPLEFORMAT or TIFFTAG_DATATYPE, guessing pixeltype 'UINT16'.\n",
      "Warning: TIFFDecoder: no TIFFTAG_SAMPLEFORMAT or TIFFTAG_DATATYPE, guessing pixeltype 'UINT16'.\n",
      "Warning: TIFFDecoder: no TIFFTAG_SAMPLEFORMAT or TIFFTAG_DATATYPE, guessing pixeltype 'UINT16'.\n",
      "Warning: TIFFDecoder: no TIFFTAG_SAMPLEFORMAT or TIFFTAG_DATATYPE, guessing pixeltype 'UINT16'.\n"
     ]
    },
    {
     "name": "stdout",
     "output_type": "stream",
     "text": [
      "DEBUG lazyflow.operators.classifierOperators: Training: 13% (Computing features)\n",
      "DEBUG lazyflow.operators.classifierOperators: Training: 13% (Computing features)\n"
     ]
    },
    {
     "name": "stderr",
     "output_type": "stream",
     "text": [
      "Warning: TIFFDecoder: no TIFFTAG_SAMPLEFORMAT or TIFFTAG_DATATYPE, guessing pixeltype 'UINT16'.\n",
      "Warning: TIFFDecoder: no TIFFTAG_SAMPLEFORMAT or TIFFTAG_DATATYPE, guessing pixeltype 'UINT16'.\n",
      "Warning: TIFFDecoder: no TIFFTAG_SAMPLEFORMAT or TIFFTAG_DATATYPE, guessing pixeltype 'UINT16'.\n",
      "Warning: TIFFDecoder: no TIFFTAG_SAMPLEFORMAT or TIFFTAG_DATATYPE, guessing pixeltype 'UINT16'.\n"
     ]
    },
    {
     "name": "stdout",
     "output_type": "stream",
     "text": [
      "DEBUG lazyflow.operators.classifierOperators: Training: 14% (Computing features)\n"
     ]
    },
    {
     "name": "stderr",
     "output_type": "stream",
     "text": [
      "Warning: TIFFDecoder: no TIFFTAG_SAMPLEFORMAT or TIFFTAG_DATATYPE, guessing pixeltype 'UINT16'.\n",
      "Warning: TIFFDecoder: no TIFFTAG_SAMPLEFORMAT or TIFFTAG_DATATYPE, guessing pixeltype 'UINT16'.\n",
      "Warning: TIFFDecoder: no TIFFTAG_SAMPLEFORMAT or TIFFTAG_DATATYPE, guessing pixeltype 'UINT16'.\n",
      "Warning: TIFFDecoder: no TIFFTAG_SAMPLEFORMAT or TIFFTAG_DATATYPE, guessing pixeltype 'UINT16'.\n",
      "Warning: TIFFDecoder: no TIFFTAG_SAMPLEFORMAT or TIFFTAG_DATATYPE, guessing pixeltype 'UINT16'.\n",
      "Warning: TIFFDecoder: no TIFFTAG_SAMPLEFORMAT or TIFFTAG_DATATYPE, guessing pixeltype 'UINT16'.\n",
      "Warning: TIFFDecoder: no TIFFTAG_SAMPLEFORMAT or TIFFTAG_DATATYPE, guessing pixeltype 'UINT16'.\n",
      "Warning: TIFFDecoder: no TIFFTAG_SAMPLEFORMAT or TIFFTAG_DATATYPE, guessing pixeltype 'UINT16'.\n",
      "Warning: TIFFDecoder: no TIFFTAG_SAMPLEFORMAT or TIFFTAG_DATATYPE, guessing pixeltype 'UINT16'.\n",
      "Warning: TIFFDecoder: no TIFFTAG_SAMPLEFORMAT or TIFFTAG_DATATYPE, guessing pixeltype 'UINT16'.\n",
      "Warning: TIFFDecoder: no TIFFTAG_SAMPLEFORMAT or TIFFTAG_DATATYPE, guessing pixeltype 'UINT16'.\n",
      "Warning: TIFFDecoder: no TIFFTAG_SAMPLEFORMAT or TIFFTAG_DATATYPE, guessing pixeltype 'UINT16'.\n"
     ]
    },
    {
     "name": "stdout",
     "output_type": "stream",
     "text": [
      "DEBUG lazyflow.operators.classifierOperators: Training: 14% (Computing features)\n",
      "DEBUG lazyflow.operators.classifierOperators: Training: 14% (Computing features)\n"
     ]
    },
    {
     "name": "stderr",
     "output_type": "stream",
     "text": [
      "Warning: TIFFDecoder: no TIFFTAG_SAMPLEFORMAT or TIFFTAG_DATATYPE, guessing pixeltype 'UINT16'.\n",
      "Warning: TIFFDecoder: no TIFFTAG_SAMPLEFORMAT or TIFFTAG_DATATYPE, guessing pixeltype 'UINT16'.\n",
      "Warning: TIFFDecoder: no TIFFTAG_SAMPLEFORMAT or TIFFTAG_DATATYPE, guessing pixeltype 'UINT16'.\n",
      "Warning: TIFFDecoder: no TIFFTAG_SAMPLEFORMAT or TIFFTAG_DATATYPE, guessing pixeltype 'UINT16'.\n"
     ]
    },
    {
     "name": "stdout",
     "output_type": "stream",
     "text": [
      "DEBUG lazyflow.operators.classifierOperators: Training: 14% (Computing features)\n",
      "DEBUG lazyflow.operators.classifierOperators: Training: 14% (Computing features)\n",
      "DEBUG lazyflow.operators.classifierOperators: Training: 14% (Computing features)\n",
      "DEBUG lazyflow.operators.classifierOperators: Training: 14% (Computing features)\n",
      "DEBUG lazyflow.operators.classifierOperators: Training: 14% (Computing features)\n",
      "DEBUG lazyflow.operators.classifierOperators: Training: 14% (Computing features)\n",
      "DEBUG lazyflow.operators.classifierOperators: Training: 14% (Computing features)\n"
     ]
    },
    {
     "name": "stderr",
     "output_type": "stream",
     "text": [
      "Warning: TIFFDecoder: no TIFFTAG_SAMPLEFORMAT or TIFFTAG_DATATYPE, guessing pixeltype 'UINT16'.\n",
      "Warning: TIFFDecoder: no TIFFTAG_SAMPLEFORMAT or TIFFTAG_DATATYPE, guessing pixeltype 'UINT16'.\n",
      "Warning: TIFFDecoder: no TIFFTAG_SAMPLEFORMAT or TIFFTAG_DATATYPE, guessing pixeltype 'UINT16'.\n",
      "Warning: TIFFDecoder: no TIFFTAG_SAMPLEFORMAT or TIFFTAG_DATATYPE, guessing pixeltype 'UINT16'.\n",
      "Warning: TIFFDecoder: no TIFFTAG_SAMPLEFORMAT or TIFFTAG_DATATYPE, guessing pixeltype 'UINT16'.\n",
      "Warning: TIFFDecoder: no TIFFTAG_SAMPLEFORMAT or TIFFTAG_DATATYPE, guessing pixeltype 'UINT16'.\n"
     ]
    },
    {
     "name": "stdout",
     "output_type": "stream",
     "text": [
      "DEBUG lazyflow.operators.classifierOperators: Training: 14% (Computing features)\n",
      "DEBUG lazyflow.operators.classifierOperators: Training: 15% (Computing features)\n",
      "DEBUG lazyflow.operators.classifierOperators: Training: 15% (Computing features)\n"
     ]
    },
    {
     "name": "stderr",
     "output_type": "stream",
     "text": [
      "Warning: TIFFDecoder: no TIFFTAG_SAMPLEFORMAT or TIFFTAG_DATATYPE, guessing pixeltype 'UINT16'.\n",
      "Warning: TIFFDecoder: no TIFFTAG_SAMPLEFORMAT or TIFFTAG_DATATYPE, guessing pixeltype 'UINT16'.\n",
      "Warning: TIFFDecoder: no TIFFTAG_SAMPLEFORMAT or TIFFTAG_DATATYPE, guessing pixeltype 'UINT16'.\n",
      "Warning: TIFFDecoder: no TIFFTAG_SAMPLEFORMAT or TIFFTAG_DATATYPE, guessing pixeltype 'UINT16'.\n"
     ]
    },
    {
     "name": "stdout",
     "output_type": "stream",
     "text": [
      "DEBUG lazyflow.operators.classifierOperators: Training: 15% (Computing features)\n",
      "DEBUG lazyflow.operators.classifierOperators: Training: 15% (Computing features)\n",
      "DEBUG lazyflow.operators.classifierOperators: Training: 15% (Computing features)\n",
      "DEBUG lazyflow.operators.classifierOperators: Training: 17% (Computing features)\n",
      "DEBUG lazyflow.operators.classifierOperators: Training: 17% (Computing features)\n",
      "DEBUG lazyflow.operators.classifierOperators: Training: 17% (Computing features)\n",
      "DEBUG lazyflow.operators.classifierOperators: Training: 19% (Computing features)\n",
      "DEBUG lazyflow.operators.classifierOperators: Training: 21% (Computing features)\n"
     ]
    },
    {
     "name": "stderr",
     "output_type": "stream",
     "text": [
      "Warning: TIFFDecoder: no TIFFTAG_SAMPLEFORMAT or TIFFTAG_DATATYPE, guessing pixeltype 'UINT16'.\n",
      "Warning: TIFFDecoder: no TIFFTAG_SAMPLEFORMAT or TIFFTAG_DATATYPE, guessing pixeltype 'UINT16'.\n",
      "Warning: TIFFDecoder: no TIFFTAG_SAMPLEFORMAT or TIFFTAG_DATATYPE, guessing pixeltype 'UINT16'.\n",
      "Warning: TIFFDecoder: no TIFFTAG_SAMPLEFORMAT or TIFFTAG_DATATYPE, guessing pixeltype 'UINT16'.\n",
      "Warning: TIFFDecoder: no TIFFTAG_SAMPLEFORMAT or TIFFTAG_DATATYPE, guessing pixeltype 'UINT16'.\n",
      "Warning: TIFFDecoder: no TIFFTAG_SAMPLEFORMAT or TIFFTAG_DATATYPE, guessing pixeltype 'UINT16'.\n",
      "Warning: TIFFDecoder: no TIFFTAG_SAMPLEFORMAT or TIFFTAG_DATATYPE, guessing pixeltype 'UINT16'.\n",
      "Warning: TIFFDecoder: no TIFFTAG_SAMPLEFORMAT or TIFFTAG_DATATYPE, guessing pixeltype 'UINT16'.\n",
      "Warning: TIFFDecoder: no TIFFTAG_SAMPLEFORMAT or TIFFTAG_DATATYPE, guessing pixeltype 'UINT16'.\n",
      "Warning: TIFFDecoder: no TIFFTAG_SAMPLEFORMAT or TIFFTAG_DATATYPE, guessing pixeltype 'UINT16'.\n"
     ]
    },
    {
     "name": "stdout",
     "output_type": "stream",
     "text": [
      "DEBUG lazyflow.operators.classifierOperators: Training: 21% (Computing features)\n",
      "DEBUG lazyflow.operators.classifierOperators: Training: 23% (Computing features)\n",
      "DEBUG lazyflow.operators.classifierOperators: Training: 25% (Computing features)\n",
      "DEBUG lazyflow.operators.classifierOperators: Training: 26% (Computing features)\n"
     ]
    },
    {
     "name": "stderr",
     "output_type": "stream",
     "text": [
      "Warning: TIFFDecoder: no TIFFTAG_SAMPLEFORMAT or TIFFTAG_DATATYPE, guessing pixeltype 'UINT16'.\n",
      "Warning: TIFFDecoder: no TIFFTAG_SAMPLEFORMAT or TIFFTAG_DATATYPE, guessing pixeltype 'UINT16'.\n",
      "Warning: TIFFDecoder: no TIFFTAG_SAMPLEFORMAT or TIFFTAG_DATATYPE, guessing pixeltype 'UINT16'.\n",
      "Warning: TIFFDecoder: no TIFFTAG_SAMPLEFORMAT or TIFFTAG_DATATYPE, guessing pixeltype 'UINT16'.\n",
      "Warning: TIFFDecoder: no TIFFTAG_SAMPLEFORMAT or TIFFTAG_DATATYPE, guessing pixeltype 'UINT16'.\n",
      "Warning: TIFFDecoder: no TIFFTAG_SAMPLEFORMAT or TIFFTAG_DATATYPE, guessing pixeltype 'UINT16'.\n"
     ]
    },
    {
     "name": "stdout",
     "output_type": "stream",
     "text": [
      "DEBUG lazyflow.operators.classifierOperators: Training: 26% (Computing features)\n",
      "DEBUG lazyflow.operators.classifierOperators: Training: 26% (Computing features)\n"
     ]
    },
    {
     "name": "stderr",
     "output_type": "stream",
     "text": [
      "Warning: TIFFDecoder: no TIFFTAG_SAMPLEFORMAT or TIFFTAG_DATATYPE, guessing pixeltype 'UINT16'.\n",
      "Warning: TIFFDecoder: no TIFFTAG_SAMPLEFORMAT or TIFFTAG_DATATYPE, guessing pixeltype 'UINT16'.\n",
      "Warning: TIFFDecoder: no TIFFTAG_SAMPLEFORMAT or TIFFTAG_DATATYPE, guessing pixeltype 'UINT16'.\n",
      "Warning: TIFFDecoder: no TIFFTAG_SAMPLEFORMAT or TIFFTAG_DATATYPE, guessing pixeltype 'UINT16'.\n"
     ]
    },
    {
     "name": "stdout",
     "output_type": "stream",
     "text": [
      "DEBUG lazyflow.operators.classifierOperators: Training: 26% (Computing features)\n",
      "DEBUG lazyflow.operators.classifierOperators: Training: 26% (Computing features)\n",
      "DEBUG lazyflow.operators.classifierOperators: Training: 27% (Computing features)\n",
      "DEBUG lazyflow.operators.classifierOperators: Training: 27% (Computing features)\n",
      "DEBUG lazyflow.operators.classifierOperators: Training: 27% (Computing features)\n",
      "DEBUG lazyflow.operators.classifierOperators: Training: 27% (Computing features)\n",
      "DEBUG lazyflow.operators.classifierOperators: Training: 27% (Computing features)\n",
      "DEBUG lazyflow.operators.classifierOperators: Training: 27% (Computing features)\n",
      "DEBUG lazyflow.operators.classifierOperators: Training: 27% (Computing features)\n",
      "DEBUG lazyflow.operators.classifierOperators: Training: 27% (Computing features)\n",
      "DEBUG lazyflow.operators.classifierOperators: Training: 28% (Computing features)\n",
      "DEBUG lazyflow.operators.classifierOperators: Training: 28% (Computing features)\n",
      "DEBUG lazyflow.operators.classifierOperators: Training: 28% (Computing features)\n",
      "DEBUG lazyflow.operators.classifierOperators: Training: 28% (Computing features)\n",
      "DEBUG lazyflow.operators.classifierOperators: Training: 28% (Computing features)\n",
      "DEBUG lazyflow.operators.classifierOperators: Training: 28% (Computing features)\n",
      "DEBUG lazyflow.operators.classifierOperators: Training: 28% (Computing features)\n",
      "DEBUG lazyflow.operators.classifierOperators: Training: 28% (Computing features)\n"
     ]
    },
    {
     "name": "stderr",
     "output_type": "stream",
     "text": [
      "Warning: TIFFDecoder: no TIFFTAG_SAMPLEFORMAT or TIFFTAG_DATATYPE, guessing pixeltype 'UINT16'.\n",
      "Warning: TIFFDecoder: no TIFFTAG_SAMPLEFORMAT or TIFFTAG_DATATYPE, guessing pixeltype 'UINT16'.\n",
      "Warning: TIFFDecoder: no TIFFTAG_SAMPLEFORMAT or TIFFTAG_DATATYPE, guessing pixeltype 'UINT16'.\n",
      "Warning: TIFFDecoder: no TIFFTAG_SAMPLEFORMAT or TIFFTAG_DATATYPE, guessing pixeltype 'UINT16'.\n",
      "Warning: TIFFDecoder: no TIFFTAG_SAMPLEFORMAT or TIFFTAG_DATATYPE, guessing pixeltype 'UINT16'.\n",
      "Warning: TIFFDecoder: no TIFFTAG_SAMPLEFORMAT or TIFFTAG_DATATYPE, guessing pixeltype 'UINT16'.\n"
     ]
    },
    {
     "name": "stdout",
     "output_type": "stream",
     "text": [
      "DEBUG lazyflow.operators.classifierOperators: Training: 29% (Computing features)\n",
      "DEBUG lazyflow.operators.classifierOperators: Training: 29% (Computing features)\n"
     ]
    },
    {
     "name": "stderr",
     "output_type": "stream",
     "text": [
      "Warning: TIFFDecoder: no TIFFTAG_SAMPLEFORMAT or TIFFTAG_DATATYPE, guessing pixeltype 'UINT16'.\n",
      "Warning: TIFFDecoder: no TIFFTAG_SAMPLEFORMAT or TIFFTAG_DATATYPE, guessing pixeltype 'UINT16'.\n",
      "Warning: TIFFDecoder: no TIFFTAG_SAMPLEFORMAT or TIFFTAG_DATATYPE, guessing pixeltype 'UINT16'.\n",
      "Warning: TIFFDecoder: no TIFFTAG_SAMPLEFORMAT or TIFFTAG_DATATYPE, guessing pixeltype 'UINT16'.\n"
     ]
    },
    {
     "name": "stdout",
     "output_type": "stream",
     "text": [
      "DEBUG lazyflow.operators.classifierOperators: Training: 29% (Computing features)\n"
     ]
    },
    {
     "name": "stderr",
     "output_type": "stream",
     "text": [
      "Warning: TIFFDecoder: no TIFFTAG_SAMPLEFORMAT or TIFFTAG_DATATYPE, guessing pixeltype 'UINT16'.\n",
      "Warning: TIFFDecoder: no TIFFTAG_SAMPLEFORMAT or TIFFTAG_DATATYPE, guessing pixeltype 'UINT16'.\n",
      "Warning: TIFFDecoder: no TIFFTAG_SAMPLEFORMAT or TIFFTAG_DATATYPE, guessing pixeltype 'UINT16'.\n",
      "Warning: TIFFDecoder: no TIFFTAG_SAMPLEFORMAT or TIFFTAG_DATATYPE, guessing pixeltype 'UINT16'.\n",
      "Warning: TIFFDecoder: no TIFFTAG_SAMPLEFORMAT or TIFFTAG_DATATYPE, guessing pixeltype 'UINT16'.\n",
      "Warning: TIFFDecoder: no TIFFTAG_SAMPLEFORMAT or TIFFTAG_DATATYPE, guessing pixeltype 'UINT16'.\n"
     ]
    },
    {
     "name": "stdout",
     "output_type": "stream",
     "text": [
      "DEBUG lazyflow.operators.classifierOperators: Training: 29% (Computing features)\n",
      "DEBUG lazyflow.operators.classifierOperators: Training: 29% (Computing features)\n",
      "DEBUG lazyflow.operators.classifierOperators: Training: 29% (Computing features)\n",
      "DEBUG lazyflow.operators.classifierOperators: Training: 29% (Computing features)\n",
      "DEBUG lazyflow.operators.classifierOperators: Training: 29% (Computing features)\n",
      "DEBUG lazyflow.operators.classifierOperators: Training: 30% (Computing features)\n",
      "DEBUG lazyflow.operators.classifierOperators: Training: 30% (Computing features)\n",
      "DEBUG lazyflow.operators.classifierOperators: Training: 30% (Computing features)\n"
     ]
    },
    {
     "name": "stderr",
     "output_type": "stream",
     "text": [
      "Warning: TIFFDecoder: no TIFFTAG_SAMPLEFORMAT or TIFFTAG_DATATYPE, guessing pixeltype 'UINT16'.\n",
      "Warning: TIFFDecoder: no TIFFTAG_SAMPLEFORMAT or TIFFTAG_DATATYPE, guessing pixeltype 'UINT16'.\n",
      "Warning: TIFFDecoder: no TIFFTAG_SAMPLEFORMAT or TIFFTAG_DATATYPE, guessing pixeltype 'UINT16'.\n",
      "Warning: TIFFDecoder: no TIFFTAG_SAMPLEFORMAT or TIFFTAG_DATATYPE, guessing pixeltype 'UINT16'.\n"
     ]
    },
    {
     "name": "stdout",
     "output_type": "stream",
     "text": [
      "DEBUG lazyflow.operators.classifierOperators: Training: 30% (Computing features)\n",
      "DEBUG lazyflow.operators.classifierOperators: Training: 30% (Computing features)\n",
      "DEBUG lazyflow.operators.classifierOperators: Training: 30% (Computing features)\n"
     ]
    },
    {
     "name": "stderr",
     "output_type": "stream",
     "text": [
      "Warning: TIFFDecoder: no TIFFTAG_SAMPLEFORMAT or TIFFTAG_DATATYPE, guessing pixeltype 'UINT16'.\n",
      "Warning: TIFFDecoder: no TIFFTAG_SAMPLEFORMAT or TIFFTAG_DATATYPE, guessing pixeltype 'UINT16'.\n"
     ]
    },
    {
     "name": "stdout",
     "output_type": "stream",
     "text": [
      "DEBUG lazyflow.operators.classifierOperators: Training: 31% (Computing features)\n",
      "DEBUG lazyflow.operators.classifierOperators: Training: 31% (Computing features)\n",
      "DEBUG lazyflow.operators.classifierOperators: Training: 31% (Computing features)\n",
      "DEBUG lazyflow.operators.classifierOperators: Training: 31% (Computing features)\n",
      "DEBUG lazyflow.operators.classifierOperators: Training: 31% (Computing features)\n"
     ]
    },
    {
     "name": "stderr",
     "output_type": "stream",
     "text": [
      "Warning: TIFFDecoder: no TIFFTAG_SAMPLEFORMAT or TIFFTAG_DATATYPE, guessing pixeltype 'UINT16'.\n",
      "Warning: TIFFDecoder: no TIFFTAG_SAMPLEFORMAT or TIFFTAG_DATATYPE, guessing pixeltype 'UINT16'.\n",
      "Warning: TIFFDecoder: no TIFFTAG_SAMPLEFORMAT or TIFFTAG_DATATYPE, guessing pixeltype 'UINT16'.\n",
      "Warning: TIFFDecoder: no TIFFTAG_SAMPLEFORMAT or TIFFTAG_DATATYPE, guessing pixeltype 'UINT16'.\n",
      "Warning: TIFFDecoder: no TIFFTAG_SAMPLEFORMAT or TIFFTAG_DATATYPE, guessing pixeltype 'UINT16'.\n"
     ]
    },
    {
     "name": "stdout",
     "output_type": "stream",
     "text": [
      "DEBUG lazyflow.operators.classifierOperators: Training: 31% (Computing features)\n",
      "DEBUG lazyflow.operators.classifierOperators: Training: 31% (Computing features)\n"
     ]
    },
    {
     "name": "stderr",
     "output_type": "stream",
     "text": [
      "Warning: TIFFDecoder: no TIFFTAG_SAMPLEFORMAT or TIFFTAG_DATATYPE, guessing pixeltype 'UINT16'.\n"
     ]
    },
    {
     "name": "stdout",
     "output_type": "stream",
     "text": [
      "DEBUG lazyflow.operators.classifierOperators: Training: 31% (Computing features)\n",
      "DEBUG lazyflow.operators.classifierOperators: Training: 31% (Computing features)\n",
      "DEBUG lazyflow.operators.classifierOperators: Training: 32% (Computing features)\n",
      "DEBUG lazyflow.operators.classifierOperators: Training: 32% (Computing features)\n",
      "DEBUG lazyflow.operators.classifierOperators: Training: 32% (Computing features)\n",
      "DEBUG lazyflow.operators.classifierOperators: Training: 32% (Computing features)\n",
      "DEBUG lazyflow.operators.classifierOperators: Training: 33% (Computing features)\n",
      "DEBUG lazyflow.operators.classifierOperators: Training: 33% (Computing features)\n",
      "DEBUG lazyflow.operators.classifierOperators: Training: 33% (Computing features)\n",
      "DEBUG lazyflow.operators.classifierOperators: Training: 33% (Computing features)\n",
      "DEBUG lazyflow.operators.classifierOperators: Training: 33% (Computing features)\n",
      "DEBUG lazyflow.operators.classifierOperators: Training: 33% (Computing features)\n",
      "DEBUG lazyflow.operators.classifierOperators: Training: 34% (Computing features)\n",
      "DEBUG lazyflow.operators.classifierOperators: Training: 34% (Computing features)\n",
      "DEBUG lazyflow.operators.classifierOperators: Training: 34% (Computing features)\n",
      "DEBUG lazyflow.operators.classifierOperators: Training: 34% (Computing features)\n",
      "DEBUG lazyflow.operators.classifierOperators: Training: 35% (Computing features)\n",
      "DEBUG lazyflow.operators.classifierOperators: Training: 35% (Computing features)\n",
      "DEBUG lazyflow.operators.classifierOperators: Training: 35% (Computing features)\n",
      "DEBUG lazyflow.operators.classifierOperators: Training: 35% (Computing features)\n",
      "DEBUG lazyflow.operators.classifierOperators: Training: 35% (Computing features)\n",
      "DEBUG lazyflow.operators.classifierOperators: Training: 35% (Computing features)\n",
      "DEBUG lazyflow.operators.classifierOperators: Training: 36% (Computing features)\n",
      "DEBUG lazyflow.operators.classifierOperators: Training: 36% (Computing features)\n",
      "DEBUG lazyflow.operators.classifierOperators: Training: 36% (Computing features)\n",
      "DEBUG lazyflow.operators.classifierOperators: Training: 36% (Computing features)\n",
      "DEBUG lazyflow.operators.classifierOperators: Training: 36% (Computing features)\n",
      "DEBUG lazyflow.operators.classifierOperators: Training: 36% (Computing features)\n"
     ]
    },
    {
     "name": "stderr",
     "output_type": "stream",
     "text": [
      "Warning: TIFFDecoder: no TIFFTAG_SAMPLEFORMAT or TIFFTAG_DATATYPE, guessing pixeltype 'UINT16'.\n",
      "Warning: TIFFDecoder: no TIFFTAG_SAMPLEFORMAT or TIFFTAG_DATATYPE, guessing pixeltype 'UINT16'.\n"
     ]
    },
    {
     "name": "stdout",
     "output_type": "stream",
     "text": [
      "DEBUG lazyflow.operators.classifierOperators: Training: 36% (Computing features)\n",
      "DEBUG lazyflow.operators.classifierOperators: Training: 36% (Computing features)\n",
      "DEBUG lazyflow.operators.classifierOperators: Training: 36% (Computing features)\n",
      "DEBUG lazyflow.operators.classifierOperators: Training: 36% (Computing features)\n",
      "DEBUG lazyflow.operators.classifierOperators: Training: 37% (Computing features)\n",
      "DEBUG lazyflow.operators.classifierOperators: Training: 37% (Computing features)\n",
      "DEBUG lazyflow.operators.classifierOperators: Training: 37% (Computing features)\n",
      "DEBUG lazyflow.operators.classifierOperators: Training: 37% (Computing features)\n",
      "DEBUG lazyflow.operators.classifierOperators: Training: 37% (Computing features)\n",
      "DEBUG lazyflow.operators.classifierOperators: Training: 37% (Computing features)\n",
      "DEBUG lazyflow.operators.classifierOperators: Training: 37% (Computing features)\n",
      "DEBUG lazyflow.operators.classifierOperators: Training: 37% (Computing features)\n",
      "DEBUG lazyflow.operators.classifierOperators: Training: 38% (Computing features)\n",
      "DEBUG lazyflow.operators.classifierOperators: Training: 38% (Computing features)\n"
     ]
    },
    {
     "name": "stderr",
     "output_type": "stream",
     "text": [
      "Warning: TIFFDecoder: no TIFFTAG_SAMPLEFORMAT or TIFFTAG_DATATYPE, guessing pixeltype 'UINT16'.\n",
      "Warning: TIFFDecoder: no TIFFTAG_SAMPLEFORMAT or TIFFTAG_DATATYPE, guessing pixeltype 'UINT16'.\n",
      "Warning: TIFFDecoder: no TIFFTAG_SAMPLEFORMAT or TIFFTAG_DATATYPE, guessing pixeltype 'UINT16'.\n",
      "Warning: TIFFDecoder: no TIFFTAG_SAMPLEFORMAT or TIFFTAG_DATATYPE, guessing pixeltype 'UINT16'.\n"
     ]
    },
    {
     "name": "stdout",
     "output_type": "stream",
     "text": [
      "DEBUG lazyflow.operators.classifierOperators: Training: 38% (Computing features)\n",
      "DEBUG lazyflow.operators.classifierOperators: Training: 38% (Computing features)\n",
      "DEBUG lazyflow.operators.classifierOperators: Training: 38% (Computing features)\n",
      "DEBUG lazyflow.operators.classifierOperators: Training: 38% (Computing features)\n",
      "DEBUG lazyflow.operators.classifierOperators: Training: 39% (Computing features)\n",
      "DEBUG lazyflow.operators.classifierOperators: Training: 39% (Computing features)\n",
      "DEBUG lazyflow.operators.classifierOperators: Training: 39% (Computing features)\n",
      "DEBUG lazyflow.operators.classifierOperators: Training: 39% (Computing features)\n",
      "DEBUG lazyflow.operators.classifierOperators: Training: 39% (Computing features)\n",
      "DEBUG lazyflow.operators.classifierOperators: Training: 39% (Computing features)\n",
      "DEBUG lazyflow.operators.classifierOperators: Training: 40% (Computing features)\n"
     ]
    },
    {
     "name": "stderr",
     "output_type": "stream",
     "text": [
      "Warning: TIFFDecoder: no TIFFTAG_SAMPLEFORMAT or TIFFTAG_DATATYPE, guessing pixeltype 'UINT16'.\n",
      "Warning: TIFFDecoder: no TIFFTAG_SAMPLEFORMAT or TIFFTAG_DATATYPE, guessing pixeltype 'UINT16'.\n",
      "Warning: TIFFDecoder: no TIFFTAG_SAMPLEFORMAT or TIFFTAG_DATATYPE, guessing pixeltype 'UINT16'.\n",
      "Warning: TIFFDecoder: no TIFFTAG_SAMPLEFORMAT or TIFFTAG_DATATYPE, guessing pixeltype 'UINT16'.\n",
      "Warning: TIFFDecoder: no TIFFTAG_SAMPLEFORMAT or TIFFTAG_DATATYPE, guessing pixeltype 'UINT16'.\n",
      "Warning: TIFFDecoder: no TIFFTAG_SAMPLEFORMAT or TIFFTAG_DATATYPE, guessing pixeltype 'UINT16'.\n"
     ]
    },
    {
     "name": "stdout",
     "output_type": "stream",
     "text": [
      "DEBUG lazyflow.operators.classifierOperators: Training: 40% (Computing features)\n",
      "DEBUG lazyflow.operators.classifierOperators: Training: 40% (Computing features)\n",
      "DEBUG lazyflow.operators.classifierOperators: Training: 40% (Computing features)\n"
     ]
    },
    {
     "name": "stderr",
     "output_type": "stream",
     "text": [
      "Warning: TIFFDecoder: no TIFFTAG_SAMPLEFORMAT or TIFFTAG_DATATYPE, guessing pixeltype 'UINT16'.\n",
      "Warning: TIFFDecoder: no TIFFTAG_SAMPLEFORMAT or TIFFTAG_DATATYPE, guessing pixeltype 'UINT16'.\n",
      "Warning: TIFFDecoder: no TIFFTAG_SAMPLEFORMAT or TIFFTAG_DATATYPE, guessing pixeltype 'UINT16'.\n",
      "Warning: TIFFDecoder: no TIFFTAG_SAMPLEFORMAT or TIFFTAG_DATATYPE, guessing pixeltype 'UINT16'.\n"
     ]
    },
    {
     "name": "stdout",
     "output_type": "stream",
     "text": [
      "DEBUG lazyflow.operators.classifierOperators: Training: 40% (Computing features)\n",
      "DEBUG lazyflow.operators.classifierOperators: Training: 40% (Computing features)\n",
      "DEBUG lazyflow.operators.classifierOperators: Training: 40% (Computing features)\n",
      "DEBUG lazyflow.operators.classifierOperators: Training: 41% (Computing features)\n"
     ]
    },
    {
     "name": "stderr",
     "output_type": "stream",
     "text": [
      "Warning: TIFFDecoder: no TIFFTAG_SAMPLEFORMAT or TIFFTAG_DATATYPE, guessing pixeltype 'UINT16'.\n",
      "Warning: TIFFDecoder: no TIFFTAG_SAMPLEFORMAT or TIFFTAG_DATATYPE, guessing pixeltype 'UINT16'.\n",
      "Warning: TIFFDecoder: no TIFFTAG_SAMPLEFORMAT or TIFFTAG_DATATYPE, guessing pixeltype 'UINT16'.\n",
      "Warning: TIFFDecoder: no TIFFTAG_SAMPLEFORMAT or TIFFTAG_DATATYPE, guessing pixeltype 'UINT16'.\n",
      "Warning: TIFFDecoder: no TIFFTAG_SAMPLEFORMAT or TIFFTAG_DATATYPE, guessing pixeltype 'UINT16'.\n",
      "Warning: TIFFDecoder: no TIFFTAG_SAMPLEFORMAT or TIFFTAG_DATATYPE, guessing pixeltype 'UINT16'.\n"
     ]
    },
    {
     "name": "stdout",
     "output_type": "stream",
     "text": [
      "DEBUG lazyflow.operators.classifierOperators: Training: 41% (Computing features)\n",
      "DEBUG lazyflow.operators.classifierOperators: Training: 41% (Computing features)\n",
      "DEBUG lazyflow.operators.classifierOperators: Training: 41% (Computing features)\n",
      "DEBUG lazyflow.operators.classifierOperators: Training: 41% (Computing features)\n",
      "DEBUG lazyflow.operators.classifierOperators: Training: 41% (Computing features)\n",
      "DEBUG lazyflow.operators.classifierOperators: Training: 41% (Computing features)\n",
      "DEBUG lazyflow.operators.classifierOperators: Training: 41% (Computing features)\n",
      "DEBUG lazyflow.operators.classifierOperators: Training: 41% (Computing features)\n",
      "DEBUG lazyflow.operators.classifierOperators: Training: 42% (Computing features)\n",
      "DEBUG lazyflow.operators.classifierOperators: Training: 42% (Computing features)\n",
      "DEBUG lazyflow.operators.classifierOperators: Training: 42% (Computing features)\n",
      "DEBUG lazyflow.operators.classifierOperators: Training: 42% (Computing features)\n",
      "DEBUG lazyflow.operators.classifierOperators: Training: 42% (Computing features)\n",
      "DEBUG lazyflow.operators.classifierOperators: Training: 42% (Computing features)\n",
      "DEBUG lazyflow.operators.classifierOperators: Training: 42% (Computing features)\n",
      "DEBUG lazyflow.operators.classifierOperators: Training: 43% (Computing features)\n",
      "DEBUG lazyflow.operators.classifierOperators: Training: 43% (Computing features)\n",
      "DEBUG lazyflow.operators.classifierOperators: Training: 43% (Computing features)\n",
      "DEBUG lazyflow.operators.classifierOperators: Training: 43% (Computing features)\n",
      "DEBUG lazyflow.operators.classifierOperators: Training: 43% (Computing features)\n",
      "DEBUG lazyflow.operators.classifierOperators: Training: 43% (Computing features)\n",
      "DEBUG lazyflow.operators.classifierOperators: Training: 43% (Computing features)\n",
      "DEBUG lazyflow.operators.classifierOperators: Training: 44% (Computing features)\n",
      "DEBUG lazyflow.operators.classifierOperators: Training: 44% (Computing features)\n",
      "DEBUG lazyflow.operators.classifierOperators: Training: 45% (Computing features)\n",
      "DEBUG lazyflow.operators.classifierOperators: Training: 45% (Computing features)\n",
      "DEBUG lazyflow.operators.classifierOperators: Training: 45% (Computing features)\n",
      "DEBUG lazyflow.operators.classifierOperators: Training: 46% (Computing features)\n"
     ]
    },
    {
     "name": "stderr",
     "output_type": "stream",
     "text": [
      "Warning: TIFFDecoder: no TIFFTAG_SAMPLEFORMAT or TIFFTAG_DATATYPE, guessing pixeltype 'UINT16'.\n",
      "Warning: TIFFDecoder: no TIFFTAG_SAMPLEFORMAT or TIFFTAG_DATATYPE, guessing pixeltype 'UINT16'.\n",
      "Warning: TIFFDecoder: no TIFFTAG_SAMPLEFORMAT or TIFFTAG_DATATYPE, guessing pixeltype 'UINT16'.\n",
      "Warning: TIFFDecoder: no TIFFTAG_SAMPLEFORMAT or TIFFTAG_DATATYPE, guessing pixeltype 'UINT16'.\n"
     ]
    },
    {
     "name": "stdout",
     "output_type": "stream",
     "text": [
      "DEBUG lazyflow.operators.classifierOperators: Training: 46% (Computing features)\n",
      "DEBUG lazyflow.operators.classifierOperators: Training: 46% (Computing features)\n",
      "DEBUG lazyflow.operators.classifierOperators: Training: 46% (Computing features)\n",
      "DEBUG lazyflow.operators.classifierOperators: Training: 46% (Computing features)\n",
      "DEBUG lazyflow.operators.classifierOperators: Training: 46% (Computing features)\n",
      "DEBUG lazyflow.operators.classifierOperators: Training: 46% (Computing features)\n",
      "DEBUG lazyflow.operators.classifierOperators: Training: 46% (Computing features)\n",
      "DEBUG lazyflow.operators.classifierOperators: Training: 47% (Computing features)\n"
     ]
    },
    {
     "name": "stderr",
     "output_type": "stream",
     "text": [
      "Warning: TIFFDecoder: no TIFFTAG_SAMPLEFORMAT or TIFFTAG_DATATYPE, guessing pixeltype 'UINT16'.\n",
      "Warning: TIFFDecoder: no TIFFTAG_SAMPLEFORMAT or TIFFTAG_DATATYPE, guessing pixeltype 'UINT16'.\n",
      "Warning: TIFFDecoder: no TIFFTAG_SAMPLEFORMAT or TIFFTAG_DATATYPE, guessing pixeltype 'UINT16'.\n",
      "Warning: TIFFDecoder: no TIFFTAG_SAMPLEFORMAT or TIFFTAG_DATATYPE, guessing pixeltype 'UINT16'.\n"
     ]
    },
    {
     "name": "stdout",
     "output_type": "stream",
     "text": [
      "DEBUG lazyflow.operators.classifierOperators: Training: 47% (Computing features)\n",
      "DEBUG lazyflow.operators.classifierOperators: Training: 47% (Computing features)\n",
      "DEBUG lazyflow.operators.classifierOperators: Training: 47% (Computing features)\n",
      "DEBUG lazyflow.operators.classifierOperators: Training: 48% (Computing features)\n",
      "DEBUG lazyflow.operators.classifierOperators: Training: 48% (Computing features)\n",
      "DEBUG lazyflow.operators.classifierOperators: Training: 48% (Computing features)\n",
      "DEBUG lazyflow.operators.classifierOperators: Training: 48% (Computing features)\n",
      "DEBUG lazyflow.operators.classifierOperators: Training: 48% (Computing features)\n",
      "DEBUG lazyflow.operators.classifierOperators: Training: 48% (Computing features)\n"
     ]
    },
    {
     "name": "stderr",
     "output_type": "stream",
     "text": [
      "Warning: TIFFDecoder: no TIFFTAG_SAMPLEFORMAT or TIFFTAG_DATATYPE, guessing pixeltype 'UINT16'.\n",
      "Warning: TIFFDecoder: no TIFFTAG_SAMPLEFORMAT or TIFFTAG_DATATYPE, guessing pixeltype 'UINT16'.\n",
      "Warning: TIFFDecoder: no TIFFTAG_SAMPLEFORMAT or TIFFTAG_DATATYPE, guessing pixeltype 'UINT16'.\n",
      "Warning: TIFFDecoder: no TIFFTAG_SAMPLEFORMAT or TIFFTAG_DATATYPE, guessing pixeltype 'UINT16'.\n"
     ]
    },
    {
     "name": "stdout",
     "output_type": "stream",
     "text": [
      "DEBUG lazyflow.operators.classifierOperators: Training: 48% (Computing features)\n",
      "DEBUG lazyflow.operators.classifierOperators: Training: 48% (Computing features)\n",
      "DEBUG lazyflow.operators.classifierOperators: Training: 49% (Computing features)\n"
     ]
    },
    {
     "name": "stderr",
     "output_type": "stream",
     "text": [
      "Warning: TIFFDecoder: no TIFFTAG_SAMPLEFORMAT or TIFFTAG_DATATYPE, guessing pixeltype 'UINT16'.\n",
      "Warning: TIFFDecoder: no TIFFTAG_SAMPLEFORMAT or TIFFTAG_DATATYPE, guessing pixeltype 'UINT16'.\n",
      "Warning: TIFFDecoder: no TIFFTAG_SAMPLEFORMAT or TIFFTAG_DATATYPE, guessing pixeltype 'UINT16'.\n",
      "Warning: TIFFDecoder: no TIFFTAG_SAMPLEFORMAT or TIFFTAG_DATATYPE, guessing pixeltype 'UINT16'.\n"
     ]
    },
    {
     "name": "stdout",
     "output_type": "stream",
     "text": [
      "DEBUG lazyflow.operators.classifierOperators: Training: 49% (Computing features)\n",
      "DEBUG lazyflow.operators.classifierOperators: Training: 50% (Computing features)\n",
      "DEBUG lazyflow.operators.classifierOperators: Training: 50% (Computing features)\n"
     ]
    },
    {
     "name": "stderr",
     "output_type": "stream",
     "text": [
      "Warning: TIFFDecoder: no TIFFTAG_SAMPLEFORMAT or TIFFTAG_DATATYPE, guessing pixeltype 'UINT16'.\n",
      "Warning: TIFFDecoder: no TIFFTAG_SAMPLEFORMAT or TIFFTAG_DATATYPE, guessing pixeltype 'UINT16'.\n",
      "Warning: TIFFDecoder: no TIFFTAG_SAMPLEFORMAT or TIFFTAG_DATATYPE, guessing pixeltype 'UINT16'.\n",
      "Warning: TIFFDecoder: no TIFFTAG_SAMPLEFORMAT or TIFFTAG_DATATYPE, guessing pixeltype 'UINT16'.\n",
      "Warning: TIFFDecoder: no TIFFTAG_SAMPLEFORMAT or TIFFTAG_DATATYPE, guessing pixeltype 'UINT16'.\n",
      "Warning: TIFFDecoder: no TIFFTAG_SAMPLEFORMAT or TIFFTAG_DATATYPE, guessing pixeltype 'UINT16'.\n"
     ]
    },
    {
     "name": "stdout",
     "output_type": "stream",
     "text": [
      "DEBUG lazyflow.operators.classifierOperators: Training: 50% (Computing features)\n",
      "DEBUG lazyflow.operators.classifierOperators: Training: 50% (Computing features)\n"
     ]
    },
    {
     "name": "stderr",
     "output_type": "stream",
     "text": [
      "Warning: TIFFDecoder: no TIFFTAG_SAMPLEFORMAT or TIFFTAG_DATATYPE, guessing pixeltype 'UINT16'.\n",
      "Warning: TIFFDecoder: no TIFFTAG_SAMPLEFORMAT or TIFFTAG_DATATYPE, guessing pixeltype 'UINT16'.\n",
      "Warning: TIFFDecoder: no TIFFTAG_SAMPLEFORMAT or TIFFTAG_DATATYPE, guessing pixeltype 'UINT16'.\n",
      "Warning: TIFFDecoder: no TIFFTAG_SAMPLEFORMAT or TIFFTAG_DATATYPE, guessing pixeltype 'UINT16'.\n",
      "Warning: TIFFDecoder: no TIFFTAG_SAMPLEFORMAT or TIFFTAG_DATATYPE, guessing pixeltype 'UINT16'.\n",
      "Warning: TIFFDecoder: no TIFFTAG_SAMPLEFORMAT or TIFFTAG_DATATYPE, guessing pixeltype 'UINT16'.\n"
     ]
    },
    {
     "name": "stdout",
     "output_type": "stream",
     "text": [
      "DEBUG lazyflow.operators.classifierOperators: Training: 50% (Computing features)\n",
      "DEBUG lazyflow.operators.classifierOperators: Training: 50% (Computing features)\n",
      "DEBUG lazyflow.operators.classifierOperators: Training: 50% (Computing features)\n",
      "DEBUG lazyflow.operators.classifierOperators: Training: 50% (Computing features)\n"
     ]
    },
    {
     "name": "stderr",
     "output_type": "stream",
     "text": [
      "Warning: TIFFDecoder: no TIFFTAG_SAMPLEFORMAT or TIFFTAG_DATATYPE, guessing pixeltype 'UINT16'.\n",
      "Warning: TIFFDecoder: no TIFFTAG_SAMPLEFORMAT or TIFFTAG_DATATYPE, guessing pixeltype 'UINT16'.\n",
      "Warning: TIFFDecoder: no TIFFTAG_SAMPLEFORMAT or TIFFTAG_DATATYPE, guessing pixeltype 'UINT16'.\n",
      "Warning: TIFFDecoder: no TIFFTAG_SAMPLEFORMAT or TIFFTAG_DATATYPE, guessing pixeltype 'UINT16'.\n",
      "Warning: TIFFDecoder: no TIFFTAG_SAMPLEFORMAT or TIFFTAG_DATATYPE, guessing pixeltype 'UINT16'.\n",
      "Warning: TIFFDecoder: no TIFFTAG_SAMPLEFORMAT or TIFFTAG_DATATYPE, guessing pixeltype 'UINT16'.\n",
      "Warning: TIFFDecoder: no TIFFTAG_SAMPLEFORMAT or TIFFTAG_DATATYPE, guessing pixeltype 'UINT16'.\n",
      "Warning: TIFFDecoder: no TIFFTAG_SAMPLEFORMAT or TIFFTAG_DATATYPE, guessing pixeltype 'UINT16'.\n"
     ]
    },
    {
     "name": "stdout",
     "output_type": "stream",
     "text": [
      "DEBUG lazyflow.operators.classifierOperators: Training: 50% (Computing features)\n",
      "DEBUG lazyflow.operators.classifierOperators: Training: 51% (Computing features)\n",
      "DEBUG lazyflow.operators.classifierOperators: Training: 51% (Computing features)\n",
      "DEBUG lazyflow.operators.classifierOperators: Training: 51% (Computing features)\n",
      "DEBUG lazyflow.operators.classifierOperators: Training: 51% (Computing features)\n",
      "DEBUG lazyflow.operators.classifierOperators: Training: 51% (Computing features)\n",
      "DEBUG lazyflow.operators.classifierOperators: Training: 51% (Computing features)\n",
      "DEBUG lazyflow.operators.classifierOperators: Training: 51% (Computing features)\n"
     ]
    },
    {
     "name": "stderr",
     "output_type": "stream",
     "text": [
      "Warning: TIFFDecoder: no TIFFTAG_SAMPLEFORMAT or TIFFTAG_DATATYPE, guessing pixeltype 'UINT16'.\n",
      "Warning: TIFFDecoder: no TIFFTAG_SAMPLEFORMAT or TIFFTAG_DATATYPE, guessing pixeltype 'UINT16'.\n",
      "Warning: TIFFDecoder: no TIFFTAG_SAMPLEFORMAT or TIFFTAG_DATATYPE, guessing pixeltype 'UINT16'.\n",
      "Warning: TIFFDecoder: no TIFFTAG_SAMPLEFORMAT or TIFFTAG_DATATYPE, guessing pixeltype 'UINT16'.\n"
     ]
    },
    {
     "name": "stdout",
     "output_type": "stream",
     "text": [
      "DEBUG lazyflow.operators.classifierOperators: Training: 51% (Computing features)\n",
      "DEBUG lazyflow.operators.classifierOperators: Training: 51% (Computing features)\n",
      "DEBUG lazyflow.operators.classifierOperators: Training: 52% (Computing features)\n",
      "DEBUG lazyflow.operators.classifierOperators: Training: 52% (Computing features)\n",
      "DEBUG lazyflow.operators.classifierOperators: Training: 52% (Computing features)\n",
      "DEBUG lazyflow.operators.classifierOperators: Training: 53% (Computing features)\n"
     ]
    },
    {
     "name": "stderr",
     "output_type": "stream",
     "text": [
      "Warning: TIFFDecoder: no TIFFTAG_SAMPLEFORMAT or TIFFTAG_DATATYPE, guessing pixeltype 'UINT16'.\n",
      "Warning: TIFFDecoder: no TIFFTAG_SAMPLEFORMAT or TIFFTAG_DATATYPE, guessing pixeltype 'UINT16'.\n",
      "Warning: TIFFDecoder: no TIFFTAG_SAMPLEFORMAT or TIFFTAG_DATATYPE, guessing pixeltype 'UINT16'.\n",
      "Warning: TIFFDecoder: no TIFFTAG_SAMPLEFORMAT or TIFFTAG_DATATYPE, guessing pixeltype 'UINT16'.\n",
      "Warning: TIFFDecoder: no TIFFTAG_SAMPLEFORMAT or TIFFTAG_DATATYPE, guessing pixeltype 'UINT16'.\n",
      "Warning: TIFFDecoder: no TIFFTAG_SAMPLEFORMAT or TIFFTAG_DATATYPE, guessing pixeltype 'UINT16'.\n"
     ]
    },
    {
     "name": "stdout",
     "output_type": "stream",
     "text": [
      "DEBUG lazyflow.operators.classifierOperators: Training: 53% (Computing features)\n",
      "DEBUG lazyflow.operators.classifierOperators: Training: 53% (Computing features)\n",
      "DEBUG lazyflow.operators.classifierOperators: Training: 53% (Computing features)\n",
      "DEBUG lazyflow.operators.classifierOperators: Training: 53% (Computing features)\n",
      "DEBUG lazyflow.operators.classifierOperators: Training: 53% (Computing features)\n",
      "DEBUG lazyflow.operators.classifierOperators: Training: 54% (Computing features)\n",
      "DEBUG lazyflow.operators.classifierOperators: Training: 54% (Computing features)\n",
      "DEBUG lazyflow.operators.classifierOperators: Training: 54% (Computing features)\n",
      "DEBUG lazyflow.operators.classifierOperators: Training: 54% (Computing features)\n",
      "DEBUG lazyflow.operators.classifierOperators: Training: 54% (Computing features)\n",
      "DEBUG lazyflow.operators.classifierOperators: Training: 54% (Computing features)\n",
      "DEBUG lazyflow.operators.classifierOperators: Training: 55% (Computing features)\n",
      "DEBUG lazyflow.operators.classifierOperators: Training: 55% (Computing features)\n",
      "DEBUG lazyflow.operators.classifierOperators: Training: 56% (Computing features)\n",
      "DEBUG lazyflow.operators.classifierOperators: Training: 56% (Computing features)\n",
      "DEBUG lazyflow.operators.classifierOperators: Training: 57% (Computing features)\n",
      "DEBUG lazyflow.operators.classifierOperators: Training: 57% (Computing features)\n",
      "DEBUG lazyflow.operators.classifierOperators: Training: 57% (Computing features)\n",
      "DEBUG lazyflow.operators.classifierOperators: Training: 58% (Computing features)\n",
      "DEBUG lazyflow.operators.classifierOperators: Training: 58% (Computing features)\n",
      "DEBUG lazyflow.operators.classifierOperators: Training: 58% (Computing features)\n",
      "DEBUG lazyflow.operators.classifierOperators: Training: 58% (Computing features)\n",
      "DEBUG lazyflow.operators.classifierOperators: Training: 59% (Computing features)\n",
      "DEBUG lazyflow.operators.classifierOperators: Training: 59% (Computing features)\n",
      "DEBUG lazyflow.operators.classifierOperators: Training: 59% (Computing features)\n",
      "DEBUG lazyflow.operators.classifierOperators: Training: 59% (Computing features)\n",
      "DEBUG lazyflow.operators.classifierOperators: Training: 59% (Computing features)\n",
      "DEBUG lazyflow.operators.classifierOperators: Training: 60% (Computing features)\n",
      "DEBUG lazyflow.operators.classifierOperators: Training: 60% (Computing features)\n",
      "DEBUG lazyflow.operators.classifierOperators: Training: 60% (Computing features)\n",
      "DEBUG lazyflow.operators.classifierOperators: Training: 60% (Computing features)\n",
      "DEBUG lazyflow.operators.classifierOperators: Training: 60% (Computing features)\n",
      "DEBUG lazyflow.operators.classifierOperators: Training: 60% (Computing features)\n",
      "DEBUG lazyflow.operators.classifierOperators: Training: 61% (Computing features)\n",
      "DEBUG lazyflow.operators.classifierOperators: Training: 61% (Computing features)\n",
      "DEBUG lazyflow.operators.classifierOperators: Training: 61% (Computing features)\n",
      "DEBUG lazyflow.operators.classifierOperators: Training: 61% (Computing features)\n",
      "DEBUG lazyflow.operators.classifierOperators: Training: 61% (Computing features)\n",
      "DEBUG lazyflow.operators.classifierOperators: Training: 61% (Computing features)\n",
      "DEBUG lazyflow.operators.classifierOperators: Training: 61% (Computing features)\n",
      "DEBUG lazyflow.operators.classifierOperators: Training: 61% (Computing features)\n",
      "DEBUG lazyflow.operators.classifierOperators: Training: 62% (Computing features)\n",
      "DEBUG lazyflow.operators.classifierOperators: Training: 62% (Computing features)\n",
      "DEBUG lazyflow.operators.classifierOperators: Training: 62% (Computing features)\n",
      "DEBUG lazyflow.operators.classifierOperators: Training: 62% (Computing features)\n",
      "DEBUG lazyflow.operators.classifierOperators: Training: 62% (Computing features)\n",
      "DEBUG lazyflow.operators.classifierOperators: Training: 62% (Computing features)\n",
      "DEBUG lazyflow.operators.classifierOperators: Training: 62% (Computing features)\n",
      "DEBUG lazyflow.operators.classifierOperators: Training: 62% (Computing features)\n",
      "DEBUG lazyflow.operators.classifierOperators: Training: 63% (Computing features)\n",
      "DEBUG lazyflow.operators.classifierOperators: Training: 63% (Computing features)\n",
      "DEBUG lazyflow.operators.classifierOperators: Training: 63% (Computing features)\n"
     ]
    },
    {
     "name": "stderr",
     "output_type": "stream",
     "text": [
      "Warning: TIFFDecoder: no TIFFTAG_SAMPLEFORMAT or TIFFTAG_DATATYPE, guessing pixeltype 'UINT16'.\n",
      "Warning: TIFFDecoder: no TIFFTAG_SAMPLEFORMAT or TIFFTAG_DATATYPE, guessing pixeltype 'UINT16'.\n",
      "Warning: TIFFDecoder: no TIFFTAG_SAMPLEFORMAT or TIFFTAG_DATATYPE, guessing pixeltype 'UINT16'.\n",
      "Warning: TIFFDecoder: no TIFFTAG_SAMPLEFORMAT or TIFFTAG_DATATYPE, guessing pixeltype 'UINT16'.\n"
     ]
    },
    {
     "name": "stdout",
     "output_type": "stream",
     "text": [
      "DEBUG lazyflow.operators.classifierOperators: Training: 64% (Computing features)\n",
      "DEBUG lazyflow.operators.classifierOperators: Training: 64% (Computing features)\n",
      "DEBUG lazyflow.operators.classifierOperators: Training: 64% (Computing features)\n"
     ]
    },
    {
     "name": "stderr",
     "output_type": "stream",
     "text": [
      "Warning: TIFFDecoder: no TIFFTAG_SAMPLEFORMAT or TIFFTAG_DATATYPE, guessing pixeltype 'UINT16'.\n",
      "Warning: TIFFDecoder: no TIFFTAG_SAMPLEFORMAT or TIFFTAG_DATATYPE, guessing pixeltype 'UINT16'.\n",
      "Warning: TIFFDecoder: no TIFFTAG_SAMPLEFORMAT or TIFFTAG_DATATYPE, guessing pixeltype 'UINT16'.\n",
      "Warning: TIFFDecoder: no TIFFTAG_SAMPLEFORMAT or TIFFTAG_DATATYPE, guessing pixeltype 'UINT16'.\n"
     ]
    },
    {
     "name": "stdout",
     "output_type": "stream",
     "text": [
      "DEBUG lazyflow.operators.classifierOperators: Training: 64% (Computing features)\n",
      "DEBUG lazyflow.operators.classifierOperators: Training: 64% (Computing features)\n",
      "DEBUG lazyflow.operators.classifierOperators: Training: 64% (Computing features)\n"
     ]
    },
    {
     "name": "stderr",
     "output_type": "stream",
     "text": [
      "Warning: TIFFDecoder: no TIFFTAG_SAMPLEFORMAT or TIFFTAG_DATATYPE, guessing pixeltype 'UINT16'.\n",
      "Warning: TIFFDecoder: no TIFFTAG_SAMPLEFORMAT or TIFFTAG_DATATYPE, guessing pixeltype 'UINT16'.\n"
     ]
    },
    {
     "name": "stdout",
     "output_type": "stream",
     "text": [
      "DEBUG lazyflow.operators.classifierOperators: Training: 64% (Computing features)\n",
      "DEBUG lazyflow.operators.classifierOperators: Training: 64% (Computing features)\n",
      "DEBUG lazyflow.operators.classifierOperators: Training: 64% (Computing features)\n",
      "DEBUG lazyflow.operators.classifierOperators: Training: 64% (Computing features)\n",
      "DEBUG lazyflow.operators.classifierOperators: Training: 64% (Computing features)\n",
      "DEBUG lazyflow.operators.classifierOperators: Training: 64% (Computing features)\n",
      "DEBUG lazyflow.operators.classifierOperators: Training: 64% (Computing features)\n"
     ]
    },
    {
     "name": "stderr",
     "output_type": "stream",
     "text": [
      "Warning: TIFFDecoder: no TIFFTAG_SAMPLEFORMAT or TIFFTAG_DATATYPE, guessing pixeltype 'UINT16'.\n",
      "Warning: TIFFDecoder: no TIFFTAG_SAMPLEFORMAT or TIFFTAG_DATATYPE, guessing pixeltype 'UINT16'.\n",
      "Warning: TIFFDecoder: no TIFFTAG_SAMPLEFORMAT or TIFFTAG_DATATYPE, guessing pixeltype 'UINT16'.\n",
      "Warning: TIFFDecoder: no TIFFTAG_SAMPLEFORMAT or TIFFTAG_DATATYPE, guessing pixeltype 'UINT16'.\n",
      "Warning: TIFFDecoder: no TIFFTAG_SAMPLEFORMAT or TIFFTAG_DATATYPE, guessing pixeltype 'UINT16'.\n",
      "Warning: TIFFDecoder: no TIFFTAG_SAMPLEFORMAT or TIFFTAG_DATATYPE, guessing pixeltype 'UINT16'.\n"
     ]
    },
    {
     "name": "stdout",
     "output_type": "stream",
     "text": [
      "DEBUG lazyflow.operators.classifierOperators: Training: 64% (Computing features)\n"
     ]
    },
    {
     "name": "stderr",
     "output_type": "stream",
     "text": [
      "Warning: TIFFDecoder: no TIFFTAG_SAMPLEFORMAT or TIFFTAG_DATATYPE, guessing pixeltype 'UINT16'.\n",
      "Warning: TIFFDecoder: no TIFFTAG_SAMPLEFORMAT or TIFFTAG_DATATYPE, guessing pixeltype 'UINT16'.\n",
      "Warning: TIFFDecoder: no TIFFTAG_SAMPLEFORMAT or TIFFTAG_DATATYPE, guessing pixeltype 'UINT16'.\n",
      "Warning: TIFFDecoder: no TIFFTAG_SAMPLEFORMAT or TIFFTAG_DATATYPE, guessing pixeltype 'UINT16'.\n"
     ]
    },
    {
     "name": "stdout",
     "output_type": "stream",
     "text": [
      "DEBUG lazyflow.operators.classifierOperators: Training: 64% (Computing features)\n",
      "DEBUG lazyflow.operators.classifierOperators: Training: 65% (Computing features)\n",
      "DEBUG lazyflow.operators.classifierOperators: Training: 65% (Computing features)\n"
     ]
    },
    {
     "name": "stderr",
     "output_type": "stream",
     "text": [
      "Warning: TIFFDecoder: no TIFFTAG_SAMPLEFORMAT or TIFFTAG_DATATYPE, guessing pixeltype 'UINT16'.\n",
      "Warning: TIFFDecoder: no TIFFTAG_SAMPLEFORMAT or TIFFTAG_DATATYPE, guessing pixeltype 'UINT16'.\n",
      "Warning: TIFFDecoder: no TIFFTAG_SAMPLEFORMAT or TIFFTAG_DATATYPE, guessing pixeltype 'UINT16'.\n",
      "Warning: TIFFDecoder: no TIFFTAG_SAMPLEFORMAT or TIFFTAG_DATATYPE, guessing pixeltype 'UINT16'.\n",
      "Warning: TIFFDecoder: no TIFFTAG_SAMPLEFORMAT or TIFFTAG_DATATYPE, guessing pixeltype 'UINT16'.\n",
      "Warning: TIFFDecoder: no TIFFTAG_SAMPLEFORMAT or TIFFTAG_DATATYPE, guessing pixeltype 'UINT16'.\n",
      "Warning: TIFFDecoder: no TIFFTAG_SAMPLEFORMAT or TIFFTAG_DATATYPE, guessing pixeltype 'UINT16'.\n",
      "Warning: TIFFDecoder: no TIFFTAG_SAMPLEFORMAT or TIFFTAG_DATATYPE, guessing pixeltype 'UINT16'.\n",
      "Warning: TIFFDecoder: no TIFFTAG_SAMPLEFORMAT or TIFFTAG_DATATYPE, guessing pixeltype 'UINT16'.\n",
      "Warning: TIFFDecoder: no TIFFTAG_SAMPLEFORMAT or TIFFTAG_DATATYPE, guessing pixeltype 'UINT16'.\n"
     ]
    },
    {
     "name": "stdout",
     "output_type": "stream",
     "text": [
      "DEBUG lazyflow.operators.classifierOperators: Training: 65% (Computing features)\n",
      "DEBUG lazyflow.operators.classifierOperators: Training: 65% (Computing features)\n",
      "DEBUG lazyflow.operators.classifierOperators: Training: 65% (Computing features)\n",
      "DEBUG lazyflow.operators.classifierOperators: Training: 65% (Computing features)\n",
      "DEBUG lazyflow.operators.classifierOperators: Training: 65% (Computing features)\n",
      "DEBUG lazyflow.operators.classifierOperators: Training: 65% (Computing features)\n",
      "DEBUG lazyflow.operators.classifierOperators: Training: 66% (Computing features)\n",
      "DEBUG lazyflow.operators.classifierOperators: Training: 66% (Computing features)\n",
      "DEBUG lazyflow.operators.classifierOperators: Training: 66% (Computing features)\n"
     ]
    },
    {
     "name": "stderr",
     "output_type": "stream",
     "text": [
      "Warning: TIFFDecoder: no TIFFTAG_SAMPLEFORMAT or TIFFTAG_DATATYPE, guessing pixeltype 'UINT16'.\n",
      "Warning: TIFFDecoder: no TIFFTAG_SAMPLEFORMAT or TIFFTAG_DATATYPE, guessing pixeltype 'UINT16'.\n",
      "Warning: TIFFDecoder: no TIFFTAG_SAMPLEFORMAT or TIFFTAG_DATATYPE, guessing pixeltype 'UINT16'.\n",
      "Warning: TIFFDecoder: no TIFFTAG_SAMPLEFORMAT or TIFFTAG_DATATYPE, guessing pixeltype 'UINT16'.\n"
     ]
    },
    {
     "name": "stdout",
     "output_type": "stream",
     "text": [
      "DEBUG lazyflow.operators.classifierOperators: Training: 66% (Computing features)\n",
      "DEBUG lazyflow.operators.classifierOperators: Training: 66% (Computing features)\n",
      "DEBUG lazyflow.operators.classifierOperators: Training: 66% (Computing features)\n"
     ]
    },
    {
     "name": "stderr",
     "output_type": "stream",
     "text": [
      "Warning: TIFFDecoder: no TIFFTAG_SAMPLEFORMAT or TIFFTAG_DATATYPE, guessing pixeltype 'UINT16'.\n",
      "Warning: TIFFDecoder: no TIFFTAG_SAMPLEFORMAT or TIFFTAG_DATATYPE, guessing pixeltype 'UINT16'.\n",
      "Warning: TIFFDecoder: no TIFFTAG_SAMPLEFORMAT or TIFFTAG_DATATYPE, guessing pixeltype 'UINT16'.\n",
      "Warning: TIFFDecoder: no TIFFTAG_SAMPLEFORMAT or TIFFTAG_DATATYPE, guessing pixeltype 'UINT16'.\n"
     ]
    },
    {
     "name": "stdout",
     "output_type": "stream",
     "text": [
      "DEBUG lazyflow.operators.classifierOperators: Training: 66% (Computing features)\n",
      "DEBUG lazyflow.operators.classifierOperators: Training: 66% (Computing features)\n",
      "DEBUG lazyflow.operators.classifierOperators: Training: 66% (Computing features)\n",
      "DEBUG lazyflow.operators.classifierOperators: Training: 67% (Computing features)\n",
      "DEBUG lazyflow.operators.classifierOperators: Training: 67% (Computing features)\n",
      "DEBUG lazyflow.operators.classifierOperators: Training: 67% (Computing features)\n",
      "DEBUG lazyflow.operators.classifierOperators: Training: 67% (Computing features)\n",
      "DEBUG lazyflow.operators.classifierOperators: Training: 67% (Computing features)\n",
      "DEBUG lazyflow.operators.classifierOperators: Training: 67% (Computing features)\n",
      "DEBUG lazyflow.operators.classifierOperators: Training: 67% (Computing features)\n",
      "DEBUG lazyflow.operators.classifierOperators: Training: 67% (Computing features)\n",
      "DEBUG lazyflow.operators.classifierOperators: Training: 67% (Computing features)\n",
      "DEBUG lazyflow.operators.classifierOperators: Training: 67% (Computing features)\n",
      "DEBUG lazyflow.operators.classifierOperators: Training: 68% (Computing features)\n",
      "DEBUG lazyflow.operators.classifierOperators: Training: 68% (Computing features)\n",
      "DEBUG lazyflow.operators.classifierOperators: Training: 68% (Computing features)\n",
      "DEBUG lazyflow.operators.classifierOperators: Training: 68% (Computing features)\n",
      "DEBUG lazyflow.operators.classifierOperators: Training: 68% (Computing features)\n",
      "DEBUG lazyflow.operators.classifierOperators: Training: 68% (Computing features)\n",
      "DEBUG lazyflow.operators.classifierOperators: Training: 68% (Computing features)\n",
      "DEBUG lazyflow.operators.classifierOperators: Training: 68% (Computing features)\n",
      "DEBUG lazyflow.operators.classifierOperators: Training: 68% (Computing features)\n",
      "DEBUG lazyflow.operators.classifierOperators: Training: 68% (Computing features)\n",
      "DEBUG lazyflow.operators.classifierOperators: Training: 68% (Computing features)\n",
      "DEBUG lazyflow.operators.classifierOperators: Training: 69% (Computing features)\n",
      "DEBUG lazyflow.operators.classifierOperators: Training: 69% (Computing features)\n",
      "DEBUG lazyflow.operators.classifierOperators: Training: 69% (Computing features)\n",
      "DEBUG lazyflow.operators.classifierOperators: Training: 69% (Computing features)\n",
      "DEBUG lazyflow.operators.classifierOperators: Training: 69% (Computing features)\n",
      "DEBUG lazyflow.operators.classifierOperators: Training: 69% (Computing features)\n",
      "DEBUG lazyflow.operators.classifierOperators: Training: 69% (Computing features)\n",
      "DEBUG lazyflow.operators.classifierOperators: Training: 69% (Computing features)\n",
      "DEBUG lazyflow.operators.classifierOperators: Training: 69% (Computing features)\n",
      "DEBUG lazyflow.operators.classifierOperators: Training: 69% (Computing features)\n",
      "DEBUG lazyflow.operators.classifierOperators: Training: 69% (Computing features)\n",
      "DEBUG lazyflow.operators.classifierOperators: Training: 69% (Computing features)\n",
      "DEBUG lazyflow.operators.classifierOperators: Training: 69% (Computing features)\n",
      "DEBUG lazyflow.operators.classifierOperators: Training: 69% (Computing features)\n",
      "DEBUG lazyflow.operators.classifierOperators: Training: 69% (Computing features)\n",
      "DEBUG lazyflow.operators.classifierOperators: Training: 69% (Computing features)\n",
      "DEBUG lazyflow.operators.classifierOperators: Training: 69% (Computing features)\n",
      "DEBUG lazyflow.operators.classifierOperators: Training: 70% (Computing features)\n",
      "DEBUG lazyflow.operators.classifierOperators: Training: 70% (Computing features)\n",
      "DEBUG lazyflow.operators.classifierOperators: Training: 70% (Computing features)\n",
      "DEBUG lazyflow.operators.classifierOperators: Training: 70% (Computing features)\n",
      "DEBUG lazyflow.operators.classifierOperators: Training: 70% (Computing features)\n",
      "DEBUG lazyflow.operators.classifierOperators: Training: 70% (Computing features)\n",
      "DEBUG lazyflow.operators.classifierOperators: Training: 70% (Computing features)\n",
      "DEBUG lazyflow.operators.classifierOperators: Training: 70% (Computing features)\n",
      "DEBUG lazyflow.operators.classifierOperators: Training: 71% (Computing features)\n",
      "DEBUG lazyflow.operators.classifierOperators: Training: 71% (Computing features)\n",
      "DEBUG lazyflow.operators.classifierOperators: Training: 71% (Computing features)\n",
      "DEBUG lazyflow.operators.classifierOperators: Training: 71% (Computing features)\n",
      "DEBUG lazyflow.operators.classifierOperators: Training: 71% (Computing features)\n",
      "DEBUG lazyflow.operators.classifierOperators: Training: 71% (Computing features)\n",
      "DEBUG lazyflow.operators.classifierOperators: Training: 71% (Computing features)\n",
      "DEBUG lazyflow.operators.classifierOperators: Training: 71% (Computing features)\n",
      "DEBUG lazyflow.operators.classifierOperators: Training: 71% (Computing features)\n",
      "DEBUG lazyflow.operators.classifierOperators: Training: 72% (Computing features)\n",
      "DEBUG lazyflow.operators.classifierOperators: Training: 72% (Computing features)\n",
      "DEBUG lazyflow.operators.classifierOperators: Training: 72% (Computing features)\n",
      "DEBUG lazyflow.operators.classifierOperators: Training: 72% (Computing features)\n",
      "DEBUG lazyflow.operators.classifierOperators: Training: 72% (Computing features)\n",
      "DEBUG lazyflow.operators.classifierOperators: Training: 72% (Computing features)\n",
      "DEBUG lazyflow.operators.classifierOperators: Training: 73% (Computing features)\n",
      "DEBUG lazyflow.operators.classifierOperators: Training: 73% (Computing features)\n",
      "DEBUG lazyflow.operators.classifierOperators: Training: 73% (Computing features)\n",
      "DEBUG lazyflow.operators.classifierOperators: Training: 73% (Computing features)\n",
      "DEBUG lazyflow.operators.classifierOperators: Training: 73% (Computing features)\n",
      "DEBUG lazyflow.operators.classifierOperators: Training: 73% (Computing features)\n",
      "DEBUG lazyflow.operators.classifierOperators: Training: 74% (Computing features)\n",
      "DEBUG lazyflow.operators.classifierOperators: Training: 74% (Computing features)\n",
      "DEBUG lazyflow.operators.classifierOperators: Training: 74% (Computing features)\n",
      "DEBUG lazyflow.operators.classifierOperators: Training: 74% (Computing features)\n",
      "DEBUG lazyflow.operators.classifierOperators: Training: 74% (Computing features)\n",
      "DEBUG lazyflow.operators.classifierOperators: Training: 74% (Computing features)\n",
      "DEBUG lazyflow.operators.classifierOperators: Training: 74% (Computing features)\n",
      "DEBUG lazyflow.operators.classifierOperators: Training: 74% (Computing features)\n",
      "DEBUG lazyflow.operators.classifierOperators: Training: 75% (Computing features)\n",
      "DEBUG lazyflow.operators.classifierOperators: Training: 75% (Computing features)\n",
      "DEBUG lazyflow.operators.classifierOperators: Training: 75% (Computing features)\n",
      "DEBUG lazyflow.operators.classifierOperators: Training: 75% (Computing features)\n",
      "DEBUG lazyflow.operators.classifierOperators: Training: 75% (Computing features)\n",
      "DEBUG lazyflow.operators.classifierOperators: Training: 75% (Computing features)\n",
      "DEBUG lazyflow.operators.classifierOperators: Training: 75% (Computing features)\n",
      "DEBUG lazyflow.operators.classifierOperators: Training: 76% (Computing features)\n",
      "DEBUG lazyflow.operators.classifierOperators: Training: 76% (Computing features)\n",
      "DEBUG lazyflow.operators.classifierOperators: Training: 76% (Computing features)\n",
      "DEBUG lazyflow.operators.classifierOperators: Training: 76% (Computing features)\n",
      "DEBUG lazyflow.operators.classifierOperators: Training: 76% (Computing features)\n",
      "DEBUG lazyflow.operators.classifierOperators: Training: 76% (Computing features)\n",
      "DEBUG lazyflow.operators.classifierOperators: Training: 76% (Computing features)\n",
      "DEBUG lazyflow.operators.classifierOperators: Training: 76% (Computing features)\n",
      "DEBUG lazyflow.operators.classifierOperators: Training: 77% (Computing features)\n",
      "DEBUG lazyflow.operators.classifierOperators: Training: 77% (Computing features)\n",
      "DEBUG lazyflow.operators.classifierOperators: Training: 77% (Computing features)\n",
      "DEBUG lazyflow.operators.classifierOperators: Training: 77% (Computing features)\n",
      "DEBUG lazyflow.operators.classifierOperators: Training: 77% (Computing features)\n",
      "DEBUG lazyflow.operators.classifierOperators: Training: 77% (Computing features)\n"
     ]
    },
    {
     "name": "stderr",
     "output_type": "stream",
     "text": [
      "Warning: TIFFDecoder: no TIFFTAG_SAMPLEFORMAT or TIFFTAG_DATATYPE, guessing pixeltype 'UINT16'.\n",
      "Warning: TIFFDecoder: no TIFFTAG_SAMPLEFORMAT or TIFFTAG_DATATYPE, guessing pixeltype 'UINT16'.\n",
      "Warning: TIFFDecoder: no TIFFTAG_SAMPLEFORMAT or TIFFTAG_DATATYPE, guessing pixeltype 'UINT16'.\n",
      "Warning: TIFFDecoder: no TIFFTAG_SAMPLEFORMAT or TIFFTAG_DATATYPE, guessing pixeltype 'UINT16'.\n"
     ]
    },
    {
     "name": "stdout",
     "output_type": "stream",
     "text": [
      "DEBUG lazyflow.operators.classifierOperators: Training: 77% (Computing features)\n",
      "DEBUG lazyflow.operators.classifierOperators: Training: 77% (Computing features)\n",
      "DEBUG lazyflow.operators.classifierOperators: Training: 77% (Computing features)\n",
      "DEBUG lazyflow.operators.classifierOperators: Training: 77% (Computing features)\n",
      "DEBUG lazyflow.operators.classifierOperators: Training: 77% (Computing features)\n",
      "DEBUG lazyflow.operators.classifierOperators: Training: 77% (Computing features)\n",
      "DEBUG lazyflow.operators.classifierOperators: Training: 77% (Computing features)\n",
      "DEBUG lazyflow.operators.classifierOperators: Training: 78% (Computing features)\n",
      "DEBUG lazyflow.operators.classifierOperators: Training: 78% (Computing features)\n",
      "DEBUG lazyflow.operators.classifierOperators: Training: 78% (Computing features)\n",
      "DEBUG lazyflow.operators.classifierOperators: Training: 78% (Computing features)\n",
      "DEBUG lazyflow.operators.classifierOperators: Training: 78% (Computing features)\n",
      "DEBUG lazyflow.operators.classifierOperators: Training: 78% (Computing features)\n",
      "DEBUG lazyflow.operators.classifierOperators: Training: 78% (Computing features)\n",
      "DEBUG lazyflow.operators.classifierOperators: Training: 78% (Computing features)\n",
      "DEBUG lazyflow.operators.classifierOperators: Training: 78% (Computing features)\n",
      "DEBUG lazyflow.operators.classifierOperators: Training: 78% (Computing features)\n",
      "DEBUG lazyflow.operators.classifierOperators: Training: 78% (Computing features)\n",
      "DEBUG lazyflow.operators.classifierOperators: Training: 78% (Computing features)\n",
      "DEBUG lazyflow.operators.classifierOperators: Training: 78% (Computing features)\n",
      "DEBUG lazyflow.operators.classifierOperators: Training: 78% (Computing features)\n",
      "DEBUG lazyflow.operators.classifierOperators: Training: 78% (Computing features)\n",
      "DEBUG lazyflow.operators.classifierOperators: Training: 78% (Computing features)\n",
      "DEBUG lazyflow.operators.classifierOperators: Training: 78% (Computing features)\n",
      "DEBUG lazyflow.operators.classifierOperators: Training: 78% (Computing features)\n",
      "DEBUG lazyflow.operators.classifierOperators: Training: 78% (Computing features)\n",
      "DEBUG lazyflow.operators.classifierOperators: Training: 78% (Computing features)\n",
      "DEBUG lazyflow.operators.classifierOperators: Training: 78% (Computing features)\n",
      "DEBUG lazyflow.operators.classifierOperators: Training: 78% (Computing features)\n",
      "DEBUG lazyflow.operators.classifierOperators: Training: 78% (Computing features)\n",
      "DEBUG lazyflow.operators.classifierOperators: Training: 79% (Computing features)\n",
      "DEBUG lazyflow.operators.classifierOperators: Training: 79% (Computing features)\n",
      "DEBUG lazyflow.operators.classifierOperators: Training: 79% (Computing features)\n",
      "DEBUG lazyflow.operators.classifierOperators: Training: 79% (Computing features)\n",
      "DEBUG lazyflow.operators.classifierOperators: Training: 79% (Computing features)\n",
      "DEBUG lazyflow.operators.classifierOperators: Training: 79% (Computing features)\n",
      "DEBUG lazyflow.operators.classifierOperators: Training: 79% (Computing features)\n",
      "DEBUG lazyflow.operators.classifierOperators: Training: 79% (Computing features)\n",
      "DEBUG lazyflow.operators.classifierOperators: Training: 79% (Computing features)\n",
      "DEBUG lazyflow.operators.classifierOperators: Training: 79% (Computing features)\n",
      "DEBUG lazyflow.operators.classifierOperators: Training: 79% (Computing features)\n",
      "DEBUG lazyflow.operators.classifierOperators: Training: 79% (Computing features)\n",
      "DEBUG lazyflow.operators.classifierOperators: Training: 79% (Computing features)\n",
      "DEBUG lazyflow.operators.classifierOperators: Training: 79% (Computing features)\n",
      "DEBUG lazyflow.operators.classifierOperators: Training: 79% (Computing features)\n",
      "DEBUG lazyflow.operators.classifierOperators: Training: 80% (Computing features)\n",
      "DEBUG lazyflow.operators.classifierOperators: Training: 80% (Computing features)\n",
      "DEBUG lazyflow.operators.classifierOperators: Training: 80% (Computing features)\n",
      "DEBUG lazyflow.operators.classifierOperators: Training: 80% (Computing features)\n",
      "DEBUG lazyflow.operators.classifierOperators: Training: 80% (Computing features)\n",
      "DEBUG lazyflow.operators.classifierOperators: Training: 80% (Computing features)\n",
      "DEBUG lazyflow.operators.classifierOperators: Training: 80% (Computing features)\n",
      "DEBUG lazyflow.operators.classifierOperators: Training: 80% (Computing features)\n",
      "DEBUG lazyflow.operators.classifierOperators: Training: 80% (Computing features)\n"
     ]
    },
    {
     "name": "stderr",
     "output_type": "stream",
     "text": [
      "Warning: TIFFDecoder: no TIFFTAG_SAMPLEFORMAT or TIFFTAG_DATATYPE, guessing pixeltype 'UINT16'.\n",
      "Warning: TIFFDecoder: no TIFFTAG_SAMPLEFORMAT or TIFFTAG_DATATYPE, guessing pixeltype 'UINT16'.\n"
     ]
    },
    {
     "name": "stdout",
     "output_type": "stream",
     "text": [
      "DEBUG lazyflow.operators.classifierOperators: Training: 80% (Computing features)\n",
      "DEBUG lazyflow.operators.classifierOperators: Training: 80% (Computing features)\n",
      "DEBUG lazyflow.operators.classifierOperators: Training: 80% (Computing features)\n",
      "DEBUG lazyflow.operators.classifierOperators: Training: 80% (Computing features)\n",
      "DEBUG lazyflow.operators.classifierOperators: Training: 80% (Computing features)\n"
     ]
    },
    {
     "name": "stderr",
     "output_type": "stream",
     "text": [
      "Warning: TIFFDecoder: no TIFFTAG_SAMPLEFORMAT or TIFFTAG_DATATYPE, guessing pixeltype 'UINT16'.\n",
      "Warning: TIFFDecoder: no TIFFTAG_SAMPLEFORMAT or TIFFTAG_DATATYPE, guessing pixeltype 'UINT16'.\n",
      "Warning: TIFFDecoder: no TIFFTAG_SAMPLEFORMAT or TIFFTAG_DATATYPE, guessing pixeltype 'UINT16'.\n",
      "Warning: TIFFDecoder: no TIFFTAG_SAMPLEFORMAT or TIFFTAG_DATATYPE, guessing pixeltype 'UINT16'.\n"
     ]
    },
    {
     "name": "stdout",
     "output_type": "stream",
     "text": [
      "DEBUG lazyflow.operators.classifierOperators: Training: 80% (Computing features)\n",
      "DEBUG lazyflow.operators.classifierOperators: Training: 80% (Computing features)\n",
      "DEBUG lazyflow.operators.classifierOperators: Training: 80% (Computing features)\n",
      "DEBUG lazyflow.operators.classifierOperators: Training: 80% (Computing features)\n",
      "DEBUG lazyflow.operators.classifierOperators: Training: 80% (Computing features)\n",
      "DEBUG lazyflow.operators.classifierOperators: Training: 81% (Computing features)\n",
      "DEBUG lazyflow.operators.classifierOperators: Training: 81% (Computing features)\n",
      "DEBUG lazyflow.operators.classifierOperators: Training: 81% (Computing features)\n",
      "DEBUG lazyflow.operators.classifierOperators: Training: 81% (Computing features)\n",
      "DEBUG lazyflow.operators.classifierOperators: Training: 81% (Computing features)\n",
      "DEBUG lazyflow.operators.classifierOperators: Training: 81% (Computing features)\n",
      "DEBUG lazyflow.operators.classifierOperators: Training: 81% (Computing features)\n",
      "DEBUG lazyflow.operators.classifierOperators: Training: 81% (Computing features)\n",
      "DEBUG lazyflow.operators.classifierOperators: Training: 81% (Computing features)\n",
      "DEBUG lazyflow.operators.classifierOperators: Training: 81% (Computing features)\n",
      "DEBUG lazyflow.operators.classifierOperators: Training: 82% (Computing features)\n",
      "DEBUG lazyflow.operators.classifierOperators: Training: 82% (Computing features)\n",
      "DEBUG lazyflow.operators.classifierOperators: Training: 82% (Computing features)\n",
      "DEBUG lazyflow.operators.classifierOperators: Training: 82% (Computing features)\n",
      "DEBUG lazyflow.operators.classifierOperators: Training: 82% (Computing features)\n",
      "DEBUG lazyflow.operators.classifierOperators: Training: 82% (Computing features)\n",
      "DEBUG lazyflow.operators.classifierOperators: Training: 82% (Computing features)\n",
      "DEBUG lazyflow.operators.classifierOperators: Training: 82% (Computing features)\n",
      "DEBUG lazyflow.operators.classifierOperators: Training: 82% (Computing features)\n",
      "DEBUG lazyflow.operators.classifierOperators: Training: 82% (Computing features)\n",
      "DEBUG lazyflow.operators.classifierOperators: Training: 82% (Computing features)\n",
      "DEBUG lazyflow.operators.classifierOperators: Training: 82% (Computing features)\n",
      "DEBUG lazyflow.operators.classifierOperators: Training: 82% (Computing features)\n",
      "DEBUG lazyflow.operators.classifierOperators: Training: 82% (Computing features)\n",
      "DEBUG lazyflow.operators.classifierOperators: Training: 82% (Computing features)\n"
     ]
    },
    {
     "name": "stderr",
     "output_type": "stream",
     "text": [
      "Warning: TIFFDecoder: no TIFFTAG_SAMPLEFORMAT or TIFFTAG_DATATYPE, guessing pixeltype 'UINT16'.\n",
      "Warning: TIFFDecoder: no TIFFTAG_SAMPLEFORMAT or TIFFTAG_DATATYPE, guessing pixeltype 'UINT16'.\n"
     ]
    },
    {
     "name": "stdout",
     "output_type": "stream",
     "text": [
      "DEBUG lazyflow.operators.classifierOperators: Training: 82% (Computing features)\n",
      "DEBUG lazyflow.operators.classifierOperators: Training: 82% (Computing features)\n",
      "DEBUG lazyflow.operators.classifierOperators: Training: 82% (Computing features)\n",
      "DEBUG lazyflow.operators.classifierOperators: Training: 83% (Computing features)\n",
      "DEBUG lazyflow.operators.classifierOperators: Training: 83% (Computing features)\n",
      "DEBUG lazyflow.operators.classifierOperators: Training: 83% (Computing features)\n",
      "DEBUG lazyflow.operators.classifierOperators: Training: 83% (Computing features)\n",
      "DEBUG lazyflow.operators.classifierOperators: Training: 83% (Computing features)\n",
      "DEBUG lazyflow.operators.classifierOperators: Training: 83% (Computing features)\n",
      "DEBUG lazyflow.operators.classifierOperators: Training: 83% (Computing features)\n",
      "DEBUG lazyflow.operators.classifierOperators: Training: 83% (Computing features)\n",
      "DEBUG lazyflow.operators.classifierOperators: Training: 83% (Computing features)\n",
      "DEBUG lazyflow.operators.classifierOperators: Training: 83% (Computing features)\n",
      "DEBUG lazyflow.operators.classifierOperators: Training: 83% (Computing features)\n",
      "DEBUG lazyflow.operators.classifierOperators: Training: 83% (Computing features)\n",
      "DEBUG lazyflow.operators.classifierOperators: Training: 83% (Computing features)\n",
      "DEBUG lazyflow.operators.classifierOperators: Training: 83% (Computing features)\n",
      "DEBUG lazyflow.operators.classifierOperators: Training: 83% (Computing features)\n",
      "DEBUG lazyflow.operators.classifierOperators: Training: 83% (Computing features)\n",
      "DEBUG lazyflow.operators.classifierOperators: Training: 83% (Computing features)\n",
      "DEBUG lazyflow.operators.classifierOperators: Training: 83% (Computing features)\n",
      "DEBUG lazyflow.operators.classifierOperators: Training: 84% (Computing features)\n",
      "DEBUG lazyflow.operators.classifierOperators: Training: 84% (Computing features)\n",
      "DEBUG lazyflow.operators.classifierOperators: Training: 84% (Computing features)\n",
      "DEBUG lazyflow.operators.classifierOperators: Training: 84% (Computing features)\n",
      "DEBUG lazyflow.operators.classifierOperators: Training: 84% (Computing features)\n",
      "DEBUG lazyflow.operators.classifierOperators: Training: 84% (Computing features)\n",
      "DEBUG lazyflow.operators.classifierOperators: Training: 84% (Computing features)\n",
      "DEBUG lazyflow.operators.classifierOperators: Training: 84% (Computing features)\n",
      "DEBUG lazyflow.operators.classifierOperators: Training: 84% (Computing features)\n",
      "DEBUG lazyflow.operators.classifierOperators: Training: 84% (Computing features)\n",
      "DEBUG lazyflow.operators.classifierOperators: Training: 85% (Computing features)\n",
      "DEBUG lazyflow.operators.classifierOperators: Training: 85% (Computing features)\n",
      "DEBUG lazyflow.operators.classifierOperators: Training: 85% (Computing features)\n",
      "DEBUG lazyflow.operators.classifierOperators: Training: 85% (Computing features)\n",
      "DEBUG lazyflow.operators.classifierOperators: Training: 85% (Computing features)\n",
      "DEBUG lazyflow.operators.classifierOperators: Training: 85% (Computing features)\n",
      "DEBUG lazyflow.operators.classifierOperators: Training: 85% (Computing features)\n",
      "DEBUG lazyflow.operators.classifierOperators: Training: 85% (Computing features)\n",
      "DEBUG lazyflow.operators.classifierOperators: Training: 85% (Computing features)\n",
      "DEBUG lazyflow.operators.classifierOperators: Training: 85% (Computing features)\n",
      "DEBUG lazyflow.operators.classifierOperators: Training: 85% (Computing features)\n",
      "DEBUG lazyflow.operators.classifierOperators: Training: 85% (Computing features)\n",
      "DEBUG lazyflow.operators.classifierOperators: Training: 85% (Computing features)\n",
      "DEBUG lazyflow.operators.classifierOperators: Training: 85% (Computing features)\n",
      "DEBUG lazyflow.operators.classifierOperators: Training: 85% (Computing features)\n",
      "DEBUG lazyflow.operators.classifierOperators: Training: 85% (Computing features)\n",
      "DEBUG lazyflow.operators.classifierOperators: Training: 85% (Computing features)\n",
      "DEBUG lazyflow.operators.classifierOperators: Training: 86% (Computing features)\n",
      "DEBUG lazyflow.operators.classifierOperators: Training: 86% (Computing features)\n",
      "DEBUG lazyflow.operators.classifierOperators: Training: 86% (Computing features)\n",
      "DEBUG lazyflow.operators.classifierOperators: Training: 86% (Computing features)\n",
      "DEBUG lazyflow.operators.classifierOperators: Training: 86% (Computing features)\n",
      "DEBUG lazyflow.operators.classifierOperators: Training: 86% (Computing features)\n",
      "DEBUG lazyflow.operators.classifierOperators: Training: 86% (Computing features)\n",
      "DEBUG lazyflow.operators.classifierOperators: Training: 86% (Computing features)\n",
      "DEBUG lazyflow.operators.classifierOperators: Training: 86% (Computing features)\n",
      "DEBUG lazyflow.operators.classifierOperators: Training: 86% (Computing features)\n",
      "DEBUG lazyflow.operators.classifierOperators: Training: 86% (Computing features)\n",
      "DEBUG lazyflow.operators.classifierOperators: Training: 86% (Computing features)\n",
      "DEBUG lazyflow.operators.classifierOperators: Training: 86% (Computing features)\n",
      "DEBUG lazyflow.operators.classifierOperators: Training: 86% (Computing features)\n",
      "DEBUG lazyflow.operators.classifierOperators: Training: 86% (Computing features)\n",
      "DEBUG lazyflow.operators.classifierOperators: Training: 86% (Computing features)\n",
      "DEBUG lazyflow.operators.classifierOperators: Training: 87% (Computing features)\n",
      "DEBUG lazyflow.operators.classifierOperators: Training: 87% (Computing features)\n",
      "DEBUG lazyflow.operators.classifierOperators: Training: 87% (Computing features)\n",
      "DEBUG lazyflow.operators.classifierOperators: Training: 87% (Computing features)\n",
      "DEBUG lazyflow.operators.classifierOperators: Training: 87% (Computing features)\n",
      "DEBUG lazyflow.operators.classifierOperators: Training: 87% (Computing features)\n",
      "DEBUG lazyflow.operators.classifierOperators: Training: 87% (Computing features)\n",
      "DEBUG lazyflow.operators.classifierOperators: Training: 87% (Computing features)\n",
      "DEBUG lazyflow.operators.classifierOperators: Training: 87% (Computing features)\n",
      "DEBUG lazyflow.operators.classifierOperators: Training: 87% (Computing features)\n",
      "DEBUG lazyflow.operators.classifierOperators: Training: 87% (Computing features)\n",
      "DEBUG lazyflow.operators.classifierOperators: Training: 87% (Computing features)\n",
      "DEBUG lazyflow.operators.classifierOperators: Training: 87% (Computing features)\n",
      "DEBUG lazyflow.operators.classifierOperators: Training: 87% (Computing features)\n",
      "DEBUG lazyflow.operators.classifierOperators: Training: 87% (Computing features)\n",
      "DEBUG lazyflow.operators.classifierOperators: Training: 87% (Computing features)\n",
      "DEBUG lazyflow.operators.classifierOperators: Training: 87% (Computing features)\n",
      "DEBUG lazyflow.operators.classifierOperators: Training: 87% (Computing features)\n",
      "DEBUG lazyflow.operators.classifierOperators: Training: 87% (Computing features)\n",
      "DEBUG lazyflow.operators.classifierOperators: Training: 87% (Computing features)\n",
      "DEBUG lazyflow.operators.classifierOperators: Training: 87% (Computing features)\n",
      "DEBUG lazyflow.operators.classifierOperators: Training: 87% (Computing features)\n",
      "DEBUG lazyflow.operators.classifierOperators: Training: 87% (Computing features)\n",
      "DEBUG lazyflow.operators.classifierOperators: Training: 87% (Computing features)\n",
      "DEBUG lazyflow.operators.classifierOperators: Training: 87% (Computing features)\n",
      "DEBUG lazyflow.operators.classifierOperators: Training: 88% (Computing features)\n",
      "DEBUG lazyflow.operators.classifierOperators: Training: 88% (Computing features)\n",
      "DEBUG lazyflow.operators.classifierOperators: Training: 88% (Computing features)\n",
      "DEBUG lazyflow.operators.classifierOperators: Training: 88% (Computing features)\n",
      "DEBUG lazyflow.operators.classifierOperators: Training: 88% (Computing features)\n",
      "DEBUG lazyflow.operators.classifierOperators: Training: 88% (Computing features)\n",
      "DEBUG lazyflow.operators.classifierOperators: Training: 88% (Computing features)\n",
      "DEBUG lazyflow.operators.classifierOperators: Training: 88% (Computing features)\n",
      "DEBUG lazyflow.operators.classifierOperators: Training: 88% (Computing features)\n",
      "DEBUG lazyflow.operators.classifierOperators: Training: 88% (Computing features)\n",
      "DEBUG lazyflow.operators.classifierOperators: Training: 88% (Computing features)\n",
      "DEBUG lazyflow.operators.classifierOperators: Training: 88% (Computing features)\n",
      "DEBUG lazyflow.operators.classifierOperators: Training: 88% (Computing features)\n",
      "DEBUG lazyflow.operators.classifierOperators: Training: 88% (Computing features)\n",
      "DEBUG lazyflow.operators.classifierOperators: Training: 88% (Computing features)\n",
      "DEBUG lazyflow.operators.classifierOperators: Training: 88% (Computing features)\n",
      "DEBUG lazyflow.operators.classifierOperators: Training: 88% (Computing features)\n"
     ]
    },
    {
     "name": "stdout",
     "output_type": "stream",
     "text": [
      "DEBUG lazyflow.operators.classifierOperators: Training: 88% (Computing features)\n",
      "DEBUG lazyflow.operators.classifierOperators: Training: 88% (Computing features)\n",
      "DEBUG lazyflow.operators.classifierOperators: Training: 88% (Computing features)\n",
      "DEBUG lazyflow.operators.classifierOperators: Training: 88% (Computing features)\n",
      "DEBUG lazyflow.operators.classifierOperators: Training: 88% (Computing features)\n",
      "DEBUG lazyflow.operators.classifierOperators: Training: 88% (Computing features)\n",
      "DEBUG lazyflow.operators.classifierOperators: Training: 88% (Computing features)\n",
      "DEBUG lazyflow.operators.classifierOperators: Training: 88% (Computing features)\n",
      "DEBUG lazyflow.operators.classifierOperators: Training: 88% (Computing features)\n",
      "DEBUG lazyflow.operators.classifierOperators: Training: 88% (Computing features)\n",
      "DEBUG lazyflow.operators.classifierOperators: Training: 88% (Computing features)\n",
      "DEBUG lazyflow.operators.classifierOperators: Training: 88% (Computing features)\n",
      "DEBUG lazyflow.operators.classifierOperators: Training: 88% (Computing features)\n",
      "DEBUG lazyflow.operators.classifierOperators: Training: 88% (Computing features)\n",
      "DEBUG lazyflow.operators.classifierOperators: Training: 88% (Computing features)\n",
      "DEBUG lazyflow.operators.classifierOperators: Training: 88% (Computing features)\n",
      "DEBUG lazyflow.operators.classifierOperators: Training: 88% (Computing features)\n",
      "DEBUG lazyflow.operators.classifierOperators: Training: 88% (Computing features)\n",
      "DEBUG lazyflow.operators.classifierOperators: Training: 88% (Computing features)\n",
      "DEBUG lazyflow.operators.classifierOperators: Training: 88% (Computing features)\n",
      "DEBUG lazyflow.operators.classifierOperators: Training: 88% (Computing features)\n",
      "DEBUG lazyflow.operators.classifierOperators: Training: 88% (Computing features)\n",
      "DEBUG lazyflow.operators.classifierOperators: Training: 88% (Computing features)\n",
      "DEBUG lazyflow.operators.classifierOperators: Training: 88% (Computing features)\n",
      "DEBUG lazyflow.operators.classifierOperators: Training: 88% (Computing features)\n",
      "DEBUG lazyflow.operators.classifierOperators: Training: 89% (Computing features)\n",
      "DEBUG lazyflow.operators.classifierOperators: Training: 89% (Computing features)\n",
      "DEBUG lazyflow.operators.classifierOperators: Training: 89% (Computing features)\n",
      "DEBUG lazyflow.operators.classifierOperators: Training: 89% (Computing features)\n",
      "DEBUG lazyflow.operators.classifierOperators: Training: 89% (Computing features)\n",
      "DEBUG lazyflow.operators.classifierOperators: Training: 89% (Computing features)\n",
      "DEBUG lazyflow.operators.classifierOperators: Training: 89% (Computing features)\n",
      "DEBUG lazyflow.operators.classifierOperators: Training: 89% (Computing features)\n",
      "DEBUG lazyflow.operators.classifierOperators: Training: 89% (Computing features)\n",
      "DEBUG lazyflow.operators.classifierOperators: Training: 89% (Computing features)\n",
      "DEBUG lazyflow.operators.classifierOperators: Training: 89% (Computing features)\n",
      "DEBUG lazyflow.operators.classifierOperators: Training: 89% (Computing features)\n",
      "DEBUG lazyflow.operators.classifierOperators: Training: 89% (Computing features)\n",
      "DEBUG lazyflow.operators.classifierOperators: Training: 89% (Computing features)\n",
      "DEBUG lazyflow.operators.classifierOperators: Training: 89% (Computing features)\n",
      "DEBUG lazyflow.operators.classifierOperators: Training: 89% (Computing features)\n",
      "DEBUG lazyflow.operators.classifierOperators: Training: 89% (Computing features)\n",
      "DEBUG lazyflow.operators.classifierOperators: Training: 89% (Computing features)\n",
      "DEBUG lazyflow.operators.classifierOperators: Training: 89% (Computing features)\n",
      "DEBUG lazyflow.operators.classifierOperators: Training: 89% (Computing features)\n",
      "DEBUG lazyflow.operators.classifierOperators: Training: 89% (Computing features)\n",
      "DEBUG lazyflow.operators.classifierOperators: Training: 89% (Computing features)\n",
      "DEBUG lazyflow.operators.classifierOperators: Training: 89% (Computing features)\n",
      "DEBUG lazyflow.operators.classifierOperators: Training: 89% (Computing features)\n",
      "DEBUG lazyflow.operators.classifierOperators: Training: 89% (Computing features)\n",
      "DEBUG lazyflow.operators.classifierOperators: Training: 89% (Computing features)\n",
      "DEBUG lazyflow.operators.classifierOperators: Training: 89% (Computing features)\n",
      "DEBUG lazyflow.operators.classifierOperators: Training: 89% (Computing features)\n",
      "DEBUG lazyflow.operators.classifierOperators: Training: 89% (Computing features)\n",
      "DEBUG lazyflow.operators.classifierOperators: Training: 89% (Computing features)\n",
      "DEBUG lazyflow.operators.classifierOperators: Training: 89% (Computing features)\n",
      "DEBUG lazyflow.operators.classifierOperators: Training: 89% (Computing features)\n",
      "DEBUG lazyflow.operators.classifierOperators: Training: 89% (Computing features)\n",
      "DEBUG lazyflow.operators.classifierOperators: Training: 89% (Computing features)\n",
      "DEBUG lazyflow.operators.classifierOperators: Training: 89% (Computing features)\n"
     ]
    },
    {
     "name": "stderr",
     "output_type": "stream",
     "text": [
      "Warning: TIFFDecoder: no TIFFTAG_SAMPLEFORMAT or TIFFTAG_DATATYPE, guessing pixeltype 'UINT16'.\n",
      "Warning: TIFFDecoder: no TIFFTAG_SAMPLEFORMAT or TIFFTAG_DATATYPE, guessing pixeltype 'UINT16'.\n"
     ]
    },
    {
     "name": "stdout",
     "output_type": "stream",
     "text": [
      "DEBUG lazyflow.operators.classifierOperators: Training: 89% (Computing features)\n",
      "DEBUG lazyflow.operators.classifierOperators: Training: 89% (Computing features)\n",
      "DEBUG lazyflow.operators.classifierOperators: Training: 90% (Computing features)\n",
      "DEBUG lazyflow.operators.classifierOperators: Training: 90% (Computing features)\n",
      "DEBUG lazyflow.operators.classifierOperators: Training: 90% (Computing features)\n",
      "DEBUG lazyflow.operators.classifierOperators: Training: 90% (Computing features)\n",
      "DEBUG lazyflow.operators.classifierOperators: Training: 90% (Computing features)\n",
      "DEBUG lazyflow.operators.classifierOperators: Training: 90% (Computing features)\n",
      "DEBUG lazyflow.operators.classifierOperators: Training: 90% (Computing features)\n",
      "DEBUG lazyflow.operators.classifierOperators: Training: 90% (Computing features)\n",
      "DEBUG lazyflow.operators.classifierOperators: Training: 90% (Computing features)\n",
      "DEBUG lazyflow.operators.classifierOperators: Training: 90% (Computing features)\n",
      "DEBUG lazyflow.operators.classifierOperators: Training: 90% (Computing features)\n",
      "DEBUG lazyflow.operators.classifierOperators: Training: 90% (Computing features)\n",
      "DEBUG lazyflow.operators.classifierOperators: Training: 90% (Computing features)\n",
      "DEBUG lazyflow.operators.classifierOperators: Training: 90% (Computing features)\n",
      "DEBUG lazyflow.operators.classifierOperators: Training: 90% (Computing features)\n",
      "DEBUG lazyflow.operators.classifierOperators: Training: 90% (Computing features)\n",
      "DEBUG lazyflow.operators.classifierOperators: Training: 90% (Computing features)\n",
      "DEBUG lazyflow.operators.classifierOperators: Training: 90% (Computing features)\n",
      "DEBUG lazyflow.operators.classifierOperators: Training: 90% (Computing features)\n",
      "DEBUG lazyflow.operators.classifierOperators: Training: 90% (Computing features)\n",
      "DEBUG lazyflow.operators.classifierOperators: Training: 90% (Computing features)\n",
      "DEBUG lazyflow.operators.classifierOperators: Training: 90% (Computing features)\n",
      "DEBUG lazyflow.operators.classifierOperators: Training: 90% (Computing features)\n",
      "DEBUG lazyflow.operators.classifierOperators: Training: 90% (Computing features)\n",
      "DEBUG lazyflow.operators.classifierOperators: Training: 90% (Computing features)\n",
      "DEBUG lazyflow.operators.classifierOperators: Training: 90% (Computing features)\n",
      "DEBUG lazyflow.operators.classifierOperators: Training: 90% (Computing features)\n",
      "DEBUG lazyflow.operators.classifierOperators: Training: 90% (Computing features)\n",
      "DEBUG lazyflow.operators.classifierOperators: Training: 90% (Computing features)\n",
      "DEBUG lazyflow.operators.classifierOperators: Training: 90% (Computing features)\n",
      "DEBUG lazyflow.operators.classifierOperators: Training: 90% (Computing features)\n",
      "DEBUG lazyflow.operators.classifierOperators: Training: 90% (Computing features)\n",
      "DEBUG lazyflow.operators.classifierOperators: Training: 90% (Computing features)\n",
      "DEBUG lazyflow.operators.classifierOperators: Training: 90% (Computing features)\n",
      "DEBUG lazyflow.operators.classifierOperators: Training: 90% (Computing features)\n",
      "DEBUG lazyflow.operators.classifierOperators: Training: 90% (Computing features)\n",
      "DEBUG lazyflow.operators.classifierOperators: Training: 90% (Computing features)\n",
      "DEBUG lazyflow.operators.classifierOperators: Training: 90% (Computing features)\n",
      "DEBUG lazyflow.operators.classifierOperators: Training: 90% (Computing features)\n",
      "DEBUG lazyflow.operators.classifierOperators: Training: 90% (Computing features)\n",
      "DEBUG lazyflow.operators.classifierOperators: Training: 90% (Computing features)\n",
      "DEBUG lazyflow.operators.classifierOperators: Training: 90% (Computing features)\n",
      "DEBUG lazyflow.operators.classifierOperators: Training: 91% (Computing features)\n",
      "DEBUG lazyflow.operators.classifierOperators: Training: 91% (Computing features)\n",
      "DEBUG lazyflow.operators.classifierOperators: Training: 91% (Computing features)\n",
      "DEBUG lazyflow.operators.classifierOperators: Training: 91% (Computing features)\n",
      "DEBUG lazyflow.operators.classifierOperators: Training: 91% (Computing features)\n",
      "DEBUG lazyflow.operators.classifierOperators: Training: 91% (Computing features)\n",
      "DEBUG lazyflow.operators.classifierOperators: Training: 91% (Computing features)\n",
      "DEBUG lazyflow.operators.classifierOperators: Training: 91% (Computing features)\n",
      "DEBUG lazyflow.operators.classifierOperators: Training: 91% (Computing features)\n",
      "DEBUG lazyflow.operators.classifierOperators: Training: 91% (Computing features)\n",
      "DEBUG lazyflow.operators.classifierOperators: Training: 91% (Computing features)\n",
      "DEBUG lazyflow.operators.classifierOperators: Training: 91% (Computing features)\n",
      "DEBUG lazyflow.operators.classifierOperators: Training: 91% (Computing features)\n",
      "DEBUG lazyflow.operators.classifierOperators: Training: 91% (Computing features)\n",
      "DEBUG lazyflow.operators.classifierOperators: Training: 91% (Computing features)\n",
      "DEBUG lazyflow.operators.classifierOperators: Training: 91% (Computing features)\n",
      "DEBUG lazyflow.operators.classifierOperators: Training: 91% (Computing features)\n",
      "DEBUG lazyflow.operators.classifierOperators: Training: 91% (Computing features)\n",
      "DEBUG lazyflow.operators.classifierOperators: Training: 91% (Computing features)\n",
      "DEBUG lazyflow.operators.classifierOperators: Training: 91% (Computing features)\n",
      "DEBUG lazyflow.operators.classifierOperators: Training: 91% (Computing features)\n",
      "DEBUG lazyflow.operators.classifierOperators: Training: 91% (Computing features)\n",
      "DEBUG lazyflow.operators.classifierOperators: Training: 91% (Computing features)\n",
      "DEBUG lazyflow.operators.classifierOperators: Training: 91% (Computing features)\n",
      "DEBUG lazyflow.operators.classifierOperators: Training: 91% (Computing features)\n",
      "DEBUG lazyflow.operators.classifierOperators: Training: 91% (Computing features)\n",
      "DEBUG lazyflow.operators.classifierOperators: Training: 91% (Computing features)\n",
      "DEBUG lazyflow.operators.classifierOperators: Training: 91% (Computing features)\n",
      "DEBUG lazyflow.operators.classifierOperators: Training: 91% (Computing features)\n",
      "DEBUG lazyflow.operators.classifierOperators: Training: 91% (Computing features)\n",
      "DEBUG lazyflow.operators.classifierOperators: Training: 91% (Computing features)\n",
      "DEBUG lazyflow.operators.classifierOperators: Training: 91% (Computing features)\n",
      "DEBUG lazyflow.operators.classifierOperators: Training: 91% (Computing features)\n",
      "DEBUG lazyflow.operators.classifierOperators: Training: 91% (Computing features)\n",
      "DEBUG lazyflow.operators.classifierOperators: Training: 91% (Computing features)\n",
      "DEBUG lazyflow.operators.classifierOperators: Training: 91% (Computing features)\n",
      "DEBUG lazyflow.operators.classifierOperators: Training: 91% (Computing features)\n",
      "DEBUG lazyflow.operators.classifierOperators: Training: 91% (Computing features)\n",
      "DEBUG lazyflow.operators.classifierOperators: Training: 92% (Computing features)\n",
      "DEBUG lazyflow.operators.classifierOperators: Training: 92% (Computing features)\n",
      "DEBUG lazyflow.operators.classifierOperators: Training: 92% (Computing features)\n",
      "DEBUG lazyflow.operators.classifierOperators: Training: 92% (Computing features)\n",
      "DEBUG lazyflow.operators.classifierOperators: Training: 92% (Computing features)\n",
      "DEBUG lazyflow.operators.classifierOperators: Training: 92% (Computing features)\n",
      "DEBUG lazyflow.operators.classifierOperators: Training: 92% (Computing features)\n",
      "DEBUG lazyflow.operators.classifierOperators: Training: 92% (Computing features)\n",
      "DEBUG lazyflow.operators.classifierOperators: Training: 92% (Computing features)\n",
      "DEBUG lazyflow.operators.classifierOperators: Training: 92% (Computing features)\n",
      "DEBUG lazyflow.operators.classifierOperators: Training: 92% (Computing features)\n",
      "DEBUG lazyflow.operators.classifierOperators: Training: 92% (Computing features)\n",
      "DEBUG lazyflow.operators.classifierOperators: Training: 92% (Computing features)\n",
      "DEBUG lazyflow.operators.classifierOperators: Training: 92% (Computing features)\n",
      "DEBUG lazyflow.operators.classifierOperators: Training: 92% (Computing features)\n",
      "DEBUG lazyflow.operators.classifierOperators: Training: 92% (Computing features)\n",
      "DEBUG lazyflow.operators.classifierOperators: Training: 92% (Computing features)\n",
      "DEBUG lazyflow.operators.classifierOperators: Training: 92% (Computing features)\n",
      "DEBUG lazyflow.operators.classifierOperators: Training: 92% (Computing features)\n",
      "DEBUG lazyflow.operators.classifierOperators: Training: 92% (Computing features)\n",
      "DEBUG lazyflow.operators.classifierOperators: Training: 92% (Computing features)\n",
      "DEBUG lazyflow.operators.classifierOperators: Training: 92% (Computing features)\n",
      "DEBUG lazyflow.operators.classifierOperators: Training: 92% (Computing features)\n",
      "DEBUG lazyflow.operators.classifierOperators: Training: 92% (Computing features)\n"
     ]
    },
    {
     "name": "stdout",
     "output_type": "stream",
     "text": [
      "DEBUG lazyflow.operators.classifierOperators: Training: 92% (Computing features)\n",
      "DEBUG lazyflow.operators.classifierOperators: Training: 92% (Computing features)\n",
      "DEBUG lazyflow.operators.classifierOperators: Training: 92% (Computing features)\n",
      "DEBUG lazyflow.operators.classifierOperators: Training: 92% (Computing features)\n",
      "DEBUG lazyflow.operators.classifierOperators: Training: 92% (Computing features)\n",
      "DEBUG lazyflow.operators.classifierOperators: Training: 92% (Computing features)\n",
      "DEBUG lazyflow.operators.classifierOperators: Training: 92% (Computing features)\n",
      "DEBUG lazyflow.operators.classifierOperators: Training: 92% (Computing features)\n",
      "DEBUG lazyflow.operators.classifierOperators: Training: 92% (Computing features)\n",
      "DEBUG lazyflow.operators.classifierOperators: Training: 92% (Computing features)\n",
      "DEBUG lazyflow.operators.classifierOperators: Training: 92% (Computing features)\n",
      "DEBUG lazyflow.operators.classifierOperators: Training: 92% (Computing features)\n",
      "DEBUG lazyflow.operators.classifierOperators: Training: 92% (Computing features)\n",
      "DEBUG lazyflow.operators.classifierOperators: Training: 92% (Computing features)\n",
      "DEBUG lazyflow.operators.classifierOperators: Training: 92% (Computing features)\n",
      "DEBUG lazyflow.operators.classifierOperators: Training: 92% (Computing features)\n",
      "DEBUG lazyflow.operators.classifierOperators: Training: 92% (Computing features)\n",
      "DEBUG lazyflow.operators.classifierOperators: Training: 93% (Computing features)\n",
      "DEBUG lazyflow.operators.classifierOperators: Training: 93% (Computing features)\n",
      "DEBUG lazyflow.operators.classifierOperators: Training: 93% (Computing features)\n",
      "DEBUG lazyflow.operators.classifierOperators: Training: 93% (Computing features)\n",
      "DEBUG lazyflow.operators.classifierOperators: Training: 93% (Computing features)\n",
      "DEBUG lazyflow.operators.classifierOperators: Training: 93% (Computing features)\n",
      "DEBUG lazyflow.operators.classifierOperators: Training: 93% (Computing features)\n",
      "DEBUG lazyflow.operators.classifierOperators: Training: 93% (Computing features)\n",
      "DEBUG lazyflow.operators.classifierOperators: Training: 93% (Computing features)\n",
      "DEBUG lazyflow.operators.classifierOperators: Training: 93% (Computing features)\n",
      "DEBUG lazyflow.operators.classifierOperators: Training: 93% (Computing features)\n",
      "DEBUG lazyflow.operators.classifierOperators: Training: 93% (Computing features)\n",
      "DEBUG lazyflow.operators.classifierOperators: Training: 93% (Computing features)\n",
      "DEBUG lazyflow.operators.classifierOperators: Training: 93% (Computing features)\n",
      "DEBUG lazyflow.operators.classifierOperators: Training: 93% (Computing features)\n",
      "DEBUG lazyflow.operators.classifierOperators: Training: 93% (Computing features)\n",
      "DEBUG lazyflow.operators.classifierOperators: Training: 93% (Computing features)\n",
      "DEBUG lazyflow.operators.classifierOperators: Training: 93% (Computing features)\n",
      "DEBUG lazyflow.operators.classifierOperators: Training: 93% (Computing features)\n",
      "DEBUG lazyflow.operators.classifierOperators: Training: 93% (Computing features)\n",
      "DEBUG lazyflow.operators.classifierOperators: Training: 93% (Computing features)\n",
      "DEBUG lazyflow.operators.classifierOperators: Training: 93% (Computing features)\n",
      "DEBUG lazyflow.operators.classifierOperators: Training: 93% (Computing features)\n",
      "DEBUG lazyflow.operators.classifierOperators: Training: 93% (Computing features)\n",
      "DEBUG lazyflow.operators.classifierOperators: Training: 93% (Computing features)\n",
      "DEBUG lazyflow.operators.classifierOperators: Training: 93% (Computing features)\n",
      "DEBUG lazyflow.operators.classifierOperators: Training: 93% (Computing features)\n",
      "DEBUG lazyflow.operators.classifierOperators: Training: 93% (Computing features)\n",
      "DEBUG lazyflow.operators.classifierOperators: Training: 93% (Computing features)\n",
      "DEBUG lazyflow.operators.classifierOperators: Training: 93% (Computing features)\n",
      "DEBUG lazyflow.operators.classifierOperators: Training: 93% (Computing features)\n",
      "DEBUG lazyflow.operators.classifierOperators: Training: 93% (Computing features)\n",
      "DEBUG lazyflow.operators.classifierOperators: Training: 93% (Computing features)\n",
      "DEBUG lazyflow.operators.classifierOperators: Training: 93% (Computing features)\n",
      "DEBUG lazyflow.operators.classifierOperators: Training: 93% (Computing features)\n",
      "DEBUG lazyflow.operators.classifierOperators: Training: 93% (Computing features)\n",
      "DEBUG lazyflow.operators.classifierOperators: Training: 93% (Computing features)\n",
      "DEBUG lazyflow.operators.classifierOperators: Training: 93% (Computing features)\n",
      "DEBUG lazyflow.operators.classifierOperators: Training: 94% (Computing features)\n",
      "DEBUG lazyflow.operators.classifierOperators: Training: 94% (Computing features)\n",
      "DEBUG lazyflow.operators.classifierOperators: Training: 94% (Computing features)\n",
      "DEBUG lazyflow.operators.classifierOperators: Training: 94% (Computing features)\n",
      "DEBUG lazyflow.operators.classifierOperators: Training: 94% (Computing features)\n",
      "DEBUG lazyflow.operators.classifierOperators: Training: 94% (Computing features)\n",
      "DEBUG lazyflow.operators.classifierOperators: Training: 94% (Computing features)\n",
      "DEBUG lazyflow.operators.classifierOperators: Training: 94% (Computing features)\n",
      "DEBUG lazyflow.operators.classifierOperators: Training: 94% (Computing features)\n",
      "DEBUG lazyflow.operators.classifierOperators: Training: 94% (Computing features)\n",
      "DEBUG lazyflow.operators.classifierOperators: Training: 94% (Computing features)\n",
      "DEBUG lazyflow.operators.classifierOperators: Training: 94% (Computing features)\n",
      "DEBUG lazyflow.operators.classifierOperators: Training: 94% (Computing features)\n",
      "DEBUG lazyflow.operators.classifierOperators: Training: 94% (Computing features)\n",
      "DEBUG lazyflow.operators.classifierOperators: Training: 94% (Computing features)\n",
      "DEBUG lazyflow.operators.classifierOperators: Training: 94% (Computing features)\n",
      "DEBUG lazyflow.operators.classifierOperators: Training: 94% (Computing features)\n",
      "DEBUG lazyflow.operators.classifierOperators: Training: 95% (Computing features)\n",
      "DEBUG lazyflow.operators.classifierOperators: Training: 100% (Computing features)\n",
      "DEBUG lazyflow.operators.classifierOperators: Training new classifier: Parallel Vigra Random Forest Factory (100 trees total)\n",
      "INFO lazyflow.classifiers.parallelVigraRfLazyflowClassifier: Training took, 874.893866 seconds\n",
      "INFO lazyflow.classifiers.parallelVigraRfLazyflowClassifier: Training complete. Average OOB: 0.052235949645110975\n",
      "DEBUG lazyflow.operators.classifierOperators: Training: 100% (Complete)\n"
     ]
    },
    {
     "name": "stderr",
     "output_type": "stream",
     "text": [
      "Warning: TIFFDecoder: no TIFFTAG_SAMPLEFORMAT or TIFFTAG_DATATYPE, guessing pixeltype 'UINT16'.\n",
      "Warning: TIFFDecoder: no TIFFTAG_SAMPLEFORMAT or TIFFTAG_DATATYPE, guessing pixeltype 'UINT16'.\n",
      "Warning: TIFFDecoder: no TIFFTAG_SAMPLEFORMAT or TIFFTAG_DATATYPE, guessing pixeltype 'UINT16'.\n",
      "Warning: TIFFDecoder: no TIFFTAG_SAMPLEFORMAT or TIFFTAG_DATATYPE, guessing pixeltype 'UINT16'.\n",
      "Warning: TIFFDecoder: no TIFFTAG_SAMPLEFORMAT or TIFFTAG_DATATYPE, guessing pixeltype 'UINT16'.\n",
      "Warning: TIFFDecoder: no TIFFTAG_SAMPLEFORMAT or TIFFTAG_DATATYPE, guessing pixeltype 'UINT16'.\n",
      "Warning: TIFFDecoder: no TIFFTAG_SAMPLEFORMAT or TIFFTAG_DATATYPE, guessing pixeltype 'UINT16'.\n",
      "Warning: TIFFDecoder: no TIFFTAG_SAMPLEFORMAT or TIFFTAG_DATATYPE, guessing pixeltype 'UINT16'.\n",
      "Warning: TIFFDecoder: no TIFFTAG_SAMPLEFORMAT or TIFFTAG_DATATYPE, guessing pixeltype 'UINT16'.\n",
      "Warning: TIFFDecoder: no TIFFTAG_SAMPLEFORMAT or TIFFTAG_DATATYPE, guessing pixeltype 'UINT16'.\n",
      "Warning: TIFFDecoder: no TIFFTAG_SAMPLEFORMAT or TIFFTAG_DATATYPE, guessing pixeltype 'UINT16'.\n",
      "Warning: TIFFDecoder: no TIFFTAG_SAMPLEFORMAT or TIFFTAG_DATATYPE, guessing pixeltype 'UINT16'.\n",
      "Warning: TIFFDecoder: no TIFFTAG_SAMPLEFORMAT or TIFFTAG_DATATYPE, guessing pixeltype 'UINT16'.\n",
      "Warning: TIFFDecoder: no TIFFTAG_SAMPLEFORMAT or TIFFTAG_DATATYPE, guessing pixeltype 'UINT16'.\n",
      "Warning: TIFFDecoder: no TIFFTAG_SAMPLEFORMAT or TIFFTAG_DATATYPE, guessing pixeltype 'UINT16'.\n",
      "Warning: TIFFDecoder: no TIFFTAG_SAMPLEFORMAT or TIFFTAG_DATATYPE, guessing pixeltype 'UINT16'.\n",
      "Warning: TIFFDecoder: no TIFFTAG_SAMPLEFORMAT or TIFFTAG_DATATYPE, guessing pixeltype 'UINT16'.\n",
      "Warning: TIFFDecoder: no TIFFTAG_SAMPLEFORMAT or TIFFTAG_DATATYPE, guessing pixeltype 'UINT16'.\n",
      "Warning: TIFFDecoder: no TIFFTAG_SAMPLEFORMAT or TIFFTAG_DATATYPE, guessing pixeltype 'UINT16'.\n",
      "Warning: TIFFDecoder: no TIFFTAG_SAMPLEFORMAT or TIFFTAG_DATATYPE, guessing pixeltype 'UINT16'.\n",
      "Warning: TIFFDecoder: no TIFFTAG_SAMPLEFORMAT or TIFFTAG_DATATYPE, guessing pixeltype 'UINT16'.\n",
      "Warning: TIFFDecoder: no TIFFTAG_SAMPLEFORMAT or TIFFTAG_DATATYPE, guessing pixeltype 'UINT16'.\n",
      "Warning: TIFFDecoder: no TIFFTAG_SAMPLEFORMAT or TIFFTAG_DATATYPE, guessing pixeltype 'UINT16'.\n",
      "Warning: TIFFDecoder: no TIFFTAG_SAMPLEFORMAT or TIFFTAG_DATATYPE, guessing pixeltype 'UINT16'.\n",
      "Warning: TIFFDecoder: no TIFFTAG_SAMPLEFORMAT or TIFFTAG_DATATYPE, guessing pixeltype 'UINT16'.\n",
      "Warning: TIFFDecoder: no TIFFTAG_SAMPLEFORMAT or TIFFTAG_DATATYPE, guessing pixeltype 'UINT16'.\n",
      "Warning: TIFFDecoder: no TIFFTAG_SAMPLEFORMAT or TIFFTAG_DATATYPE, guessing pixeltype 'UINT16'.\n",
      "Warning: TIFFDecoder: no TIFFTAG_SAMPLEFORMAT or TIFFTAG_DATATYPE, guessing pixeltype 'UINT16'.\n",
      "Warning: TIFFDecoder: no TIFFTAG_SAMPLEFORMAT or TIFFTAG_DATATYPE, guessing pixeltype 'UINT16'.\n",
      "Warning: TIFFDecoder: no TIFFTAG_SAMPLEFORMAT or TIFFTAG_DATATYPE, guessing pixeltype 'UINT16'.\n",
      "Warning: TIFFDecoder: no TIFFTAG_SAMPLEFORMAT or TIFFTAG_DATATYPE, guessing pixeltype 'UINT16'.\n",
      "Warning: TIFFDecoder: no TIFFTAG_SAMPLEFORMAT or TIFFTAG_DATATYPE, guessing pixeltype 'UINT16'.\n",
      "Warning: TIFFDecoder: no TIFFTAG_SAMPLEFORMAT or TIFFTAG_DATATYPE, guessing pixeltype 'UINT16'.\n",
      "Warning: TIFFDecoder: no TIFFTAG_SAMPLEFORMAT or TIFFTAG_DATATYPE, guessing pixeltype 'UINT16'.\n",
      "Warning: TIFFDecoder: no TIFFTAG_SAMPLEFORMAT or TIFFTAG_DATATYPE, guessing pixeltype 'UINT16'.\n",
      "Warning: TIFFDecoder: no TIFFTAG_SAMPLEFORMAT or TIFFTAG_DATATYPE, guessing pixeltype 'UINT16'.\n",
      "Warning: TIFFDecoder: no TIFFTAG_SAMPLEFORMAT or TIFFTAG_DATATYPE, guessing pixeltype 'UINT16'.\n",
      "Warning: TIFFDecoder: no TIFFTAG_SAMPLEFORMAT or TIFFTAG_DATATYPE, guessing pixeltype 'UINT16'.\n",
      "Warning: TIFFDecoder: no TIFFTAG_SAMPLEFORMAT or TIFFTAG_DATATYPE, guessing pixeltype 'UINT16'.\n",
      "Warning: TIFFDecoder: no TIFFTAG_SAMPLEFORMAT or TIFFTAG_DATATYPE, guessing pixeltype 'UINT16'.\n",
      "Warning: TIFFDecoder: no TIFFTAG_SAMPLEFORMAT or TIFFTAG_DATATYPE, guessing pixeltype 'UINT16'.\n",
      "Warning: TIFFDecoder: no TIFFTAG_SAMPLEFORMAT or TIFFTAG_DATATYPE, guessing pixeltype 'UINT16'.\n",
      "Warning: TIFFDecoder: no TIFFTAG_SAMPLEFORMAT or TIFFTAG_DATATYPE, guessing pixeltype 'UINT16'.\n",
      "Warning: TIFFDecoder: no TIFFTAG_SAMPLEFORMAT or TIFFTAG_DATATYPE, guessing pixeltype 'UINT16'.\n",
      "Warning: TIFFDecoder: no TIFFTAG_SAMPLEFORMAT or TIFFTAG_DATATYPE, guessing pixeltype 'UINT16'.\n",
      "Warning: TIFFDecoder: no TIFFTAG_SAMPLEFORMAT or TIFFTAG_DATATYPE, guessing pixeltype 'UINT16'.\n",
      "Warning: TIFFDecoder: no TIFFTAG_SAMPLEFORMAT or TIFFTAG_DATATYPE, guessing pixeltype 'UINT16'.\n",
      "Warning: TIFFDecoder: no TIFFTAG_SAMPLEFORMAT or TIFFTAG_DATATYPE, guessing pixeltype 'UINT16'.\n",
      "Warning: TIFFDecoder: no TIFFTAG_SAMPLEFORMAT or TIFFTAG_DATATYPE, guessing pixeltype 'UINT16'.\n",
      "Warning: TIFFDecoder: no TIFFTAG_SAMPLEFORMAT or TIFFTAG_DATATYPE, guessing pixeltype 'UINT16'.\n",
      "Warning: TIFFDecoder: no TIFFTAG_SAMPLEFORMAT or TIFFTAG_DATATYPE, guessing pixeltype 'UINT16'.\n",
      "Warning: TIFFDecoder: no TIFFTAG_SAMPLEFORMAT or TIFFTAG_DATATYPE, guessing pixeltype 'UINT16'.\n",
      "Warning: TIFFDecoder: no TIFFTAG_SAMPLEFORMAT or TIFFTAG_DATATYPE, guessing pixeltype 'UINT16'.\n",
      "Warning: TIFFDecoder: no TIFFTAG_SAMPLEFORMAT or TIFFTAG_DATATYPE, guessing pixeltype 'UINT16'.\n",
      "Warning: TIFFDecoder: no TIFFTAG_SAMPLEFORMAT or TIFFTAG_DATATYPE, guessing pixeltype 'UINT16'.\n",
      "Warning: TIFFDecoder: no TIFFTAG_SAMPLEFORMAT or TIFFTAG_DATATYPE, guessing pixeltype 'UINT16'.\n"
     ]
    },
    {
     "name": "stdout",
     "output_type": "stream",
     "text": [
      "DEBUG lazyflow.operators.classifierOperators: Features took 11.709722 seconds. Prediction took 74.7527 seconds. Subregion: start '[0, 0, 0, 0]' stop '[28, 609, 608, 3]'\n",
      "DEBUG lazyflow.operators.classifierOperators: Features took 83.181511 seconds. Prediction took 75.178681 seconds. Subregion: start '[0, 0, 608, 0]' stop '[28, 609, 1216, 3]'\n",
      "DEBUG lazyflow.operators.classifierOperators: Features took 160.345404 seconds. Prediction took 100.933359 seconds. Subregion: start '[0, 0, 1216, 0]' stop '[28, 609, 1824, 3]'\n",
      "DEBUG lazyflow.operators.classifierOperators: Features took 234.489999 seconds. Prediction took 27.496055 seconds. Subregion: start '[0, 0, 1824, 0]' stop '[28, 609, 2048, 3]'\n",
      "DEBUG lazyflow.operators.classifierOperators: Features took 30.705537 seconds. Prediction took 139.028982 seconds. Subregion: start '[0, 609, 1216, 0]' stop '[28, 1218, 1824, 3]'\n",
      "DEBUG lazyflow.operators.classifierOperators: Features took 262.129407 seconds. Prediction took 207.762777 seconds. Subregion: start '[0, 609, 0, 0]' stop '[28, 1218, 608, 3]'\n",
      "DEBUG lazyflow.operators.classifierOperators: Features took 396.796342 seconds. Prediction took 98.314744 seconds. Subregion: start '[0, 609, 608, 0]' stop '[28, 1218, 1216, 3]'\n",
      "DEBUG lazyflow.operators.classifierOperators: Features took 160.139395 seconds. Prediction took 172.158147 seconds. Subregion: start '[0, 609, 1824, 0]' stop '[28, 1218, 2048, 3]'\n",
      "DEBUG lazyflow.operators.classifierOperators: Features took 100.716894 seconds. Prediction took 137.663703 seconds. Subregion: start '[0, 1218, 0, 0]' stop '[28, 1827, 608, 3]'\n",
      "DEBUG lazyflow.operators.classifierOperators: Features took 79.853777 seconds. Prediction took 72.055302 seconds. Subregion: start '[0, 1218, 608, 0]' stop '[28, 1827, 1216, 3]'\n",
      "DEBUG lazyflow.operators.classifierOperators: Features took 2.108171 seconds. Prediction took 47.738550000000004 seconds. Subregion: start '[0, 1218, 1824, 0]' stop '[28, 1827, 2048, 3]'\n",
      "DEBUG lazyflow.operators.classifierOperators: Features took 27.276327 seconds. Prediction took 90.140967 seconds. Subregion: start '[0, 1827, 0, 0]' stop '[28, 2048, 608, 3]'\n",
      "DEBUG lazyflow.operators.classifierOperators: Features took 178.544792 seconds. Prediction took 108.071099 seconds. Subregion: start '[0, 1218, 1216, 0]' stop '[28, 1827, 1824, 3]'\n",
      "DEBUG lazyflow.operators.classifierOperators: Features took 2.827208 seconds. Prediction took 31.055815 seconds. Subregion: start '[0, 1827, 1216, 0]' stop '[28, 2048, 1824, 3]'\n",
      "DEBUG lazyflow.operators.classifierOperators: Features took 1.154989 seconds. Prediction took 31.490755 seconds. Subregion: start '[0, 1827, 1824, 0]' stop '[28, 2048, 2048, 3]'\n",
      "DEBUG lazyflow.operators.classifierOperators: Features took 146.900808 seconds. Prediction took 22.708861 seconds. Subregion: start '[0, 1827, 608, 0]' stop '[28, 2048, 1216, 3]'\n",
      "INFO ilastik.workflows.pixelClassification.pixelClassificationWorkflow: Completed Batch Processing\n"
     ]
    },
    {
     "data": {
      "text/plain": [
       "CompletedProcess(args=['/home/peter/Applications/ilastik-1.3.3post3-Linux/run_ilastik.sh', '--headless', '--project=Ilastik/microglia.ilp', '--export_source=probabilities', 'temp.tif'], returncode=0)"
      ]
     },
     "execution_count": 5,
     "metadata": {},
     "output_type": "execute_result"
    }
   ],
   "source": [
    "# Run Ilastik\n",
    "\n",
    "launch_args = [ILASTIK_LOC,\n",
    "               '--headless',\n",
    "               '--project='+ILASTIK_PRO,\n",
    "               '--export_source=\"probabilities\"',\n",
    "               \"temp.tif\"]\n",
    "#subprocess.run(launch_args)"
   ]
  },
  {
   "cell_type": "code",
   "execution_count": 7,
   "id": "9e66db4a",
   "metadata": {},
   "outputs": [],
   "source": [
    "# Load Results\n",
    "pixel_classifier = h5py.File('temp_Probabilities.h5')\n",
    "classes = pixel_classifier['exported_data']\n"
   ]
  },
  {
   "cell_type": "code",
   "execution_count": 8,
   "id": "7c64eb4a",
   "metadata": {},
   "outputs": [],
   "source": [
    "microglia = classes[:,:,:,2]\n",
    "vascular = classes[:,:,:,1]"
   ]
  },
  {
   "cell_type": "code",
   "execution_count": 9,
   "id": "626a0223",
   "metadata": {
    "scrolled": false
   },
   "outputs": [],
   "source": [
    "# Create pixel segmentations \n",
    "threshold_class=microglia.copy()\n",
    "threshold_class[filters.gaussian(threshold_class) < threshold_otsu(microglia)]=0\n",
    "\n",
    "# Remove Pixels that contain vascular structures \n",
    "threshold_class[vascular>.35]=0"
   ]
  },
  {
   "cell_type": "code",
   "execution_count": 10,
   "id": "29231686",
   "metadata": {},
   "outputs": [],
   "source": [
    "# Make segmentation using edge-detection and watershed with binary pixel map\n",
    "binary = threshold_class.copy()\n",
    "\n",
    "binary[filters.gaussian(threshold_class)<.50] =0\n",
    "binary[binary>0]=1\n",
    "binary = binary.astype(int)\n"
   ]
  },
  {
   "cell_type": "code",
   "execution_count": 11,
   "id": "c9e0b151",
   "metadata": {},
   "outputs": [
    {
     "data": {
      "text/plain": [
       "(28, 2048, 2048)"
      ]
     },
     "execution_count": 11,
     "metadata": {},
     "output_type": "execute_result"
    }
   ],
   "source": [
    "binary.shape"
   ]
  },
  {
   "cell_type": "code",
   "execution_count": 12,
   "id": "32d1d8db",
   "metadata": {},
   "outputs": [],
   "source": [
    "edges = np.zeros_like(binary)\n",
    "for step in range(binary.shape[0]):\n",
    "    edges[step,:,:] = filters.sobel(binary[step,:,:])"
   ]
  },
  {
   "cell_type": "code",
   "execution_count": 13,
   "id": "cc22e45e",
   "metadata": {},
   "outputs": [],
   "source": [
    "# Find Edgesin the binary image\n",
    "#edges = filters.sobel(binary)\n",
    "\n",
    "# Identify some background and foreground pixels from the intensity values.\n",
    "# These pixels are used as seeds for watershed.\n",
    "\n",
    "foreground, background = 1, 2\n",
    "binary[binary == 0] = background\n",
    "binary[binary == 1] = foreground\n",
    "\n",
    "ws = watershed(edges, binary)\n",
    "seg1 = label(ws == foreground)"
   ]
  },
  {
   "cell_type": "code",
   "execution_count": 14,
   "id": "dcec49ad",
   "metadata": {},
   "outputs": [
    {
     "data": {
      "text/plain": [
       "<Labels layer 'Labels' at 0x7f14876ecf40>"
      ]
     },
     "execution_count": 14,
     "metadata": {},
     "output_type": "execute_result"
    }
   ],
   "source": [
    "# Filter out small false positives\n",
    "seg2 = remove_small_objects(seg1, min_size=5000)\n",
    "\n",
    "# Labels can be edited in the Napari window\n",
    "viewer = napari.Viewer()\n",
    "viewer.add_image(ch0[:,:,:,0], name='CH2', blending=\"additive\")\n",
    "viewer.add_labels(seg2, name='Labels')\n"
   ]
  },
  {
   "cell_type": "code",
   "execution_count": 15,
   "id": "f14a416d",
   "metadata": {},
   "outputs": [],
   "source": [
    "label_ints = [2, 9, 16]\n",
    "singleGlia = seg2.copy()\n",
    "singleGlia[singleGlia!=2] = 0\n",
    "singleGlia[singleGlia!=0] = 1\n",
    "singleGliaPrj = np.max(singleGlia, axis=0)"
   ]
  },
  {
   "cell_type": "code",
   "execution_count": 21,
   "id": "cd820471",
   "metadata": {},
   "outputs": [],
   "source": [
    "def returnMeasurements(microglia_labels, label_num, xyz, showglia=False):\n",
    "    # Make a binary copy of the microglia\n",
    "    microglia = microglia_labels.copy()\n",
    "    microglia[microglia!=label_num] = 0\n",
    "    microglia[microglia!=0] = 1\n",
    "\n",
    "    basic_metrics = {}\n",
    "    \n",
    "    volume = np.sum(microglia)*xyz[0]*xyz[1]*xyz[2]\n",
    "    microglia2D = np.max(microglia, axis=0)\n",
    "    if showglia == True:\n",
    "        print(\"Displaying Microglia {}\".format(label_num))\n",
    "        plt.imshow(microglia2D)\n",
    "        plt.show()\n",
    "\n",
    "    area = np.sum(microglia2D) * xyz[0] * xyz[1]\n",
    "    perimeter = measure.perimeter(microglia2D)* xyz[0] \n",
    "    data = measure.regionprops(microglia2D)\n",
    "    \n",
    "\n",
    "\n",
    "    basic_metrics['Microglia_ID'] = int(label_num)\n",
    "    basic_metrics['Cell_Volume'] = volume\n",
    "    basic_metrics['Cell_Area'] = area\n",
    "    basic_metrics['Cell_Perimeter'] = perimeter\n",
    "    basic_metrics['Convex_Hull_Area'] = data[0]['area_convex'] * xyz[0] * xyz[1]\n",
    "    basic_metrics['Convex_Hull_Perimeter'] = measure.perimeter(data[0]['image_convex'])* xyz[0]\n",
    "    basic_metrics['Cell_Solidity'] = basic_metrics['Cell_Area']/basic_metrics['Convex_Hull_Area']\n",
    "    basic_metrics['Cell_Convexity'] = basic_metrics['Convex_Hull_Perimeter']/basic_metrics['Cell_Perimeter']    \n",
    "    basic_metrics['Cell_Circularity'] = (4*math.pi*basic_metrics['Cell_Area'])/(basic_metrics['Cell_Perimeter']**2)    \n",
    "\n",
    "    return basic_metrics\n",
    "    \n",
    "\n"
   ]
  },
  {
   "cell_type": "code",
   "execution_count": 22,
   "id": "1b79912e",
   "metadata": {},
   "outputs": [
    {
     "name": "stdout",
     "output_type": "stream",
     "text": [
      "2018-0153_OS_Pie8_72F_Mid-Peri_Z-stack\n"
     ]
    },
    {
     "data": {
      "text/html": [
       "<div>\n",
       "<style scoped>\n",
       "    .dataframe tbody tr th:only-of-type {\n",
       "        vertical-align: middle;\n",
       "    }\n",
       "\n",
       "    .dataframe tbody tr th {\n",
       "        vertical-align: top;\n",
       "    }\n",
       "\n",
       "    .dataframe thead th {\n",
       "        text-align: right;\n",
       "    }\n",
       "</style>\n",
       "<table border=\"1\" class=\"dataframe\">\n",
       "  <thead>\n",
       "    <tr style=\"text-align: right;\">\n",
       "      <th></th>\n",
       "      <th>Microglia_ID</th>\n",
       "      <th>Cell_Volume</th>\n",
       "      <th>Cell_Area</th>\n",
       "      <th>Cell_Perimeter</th>\n",
       "      <th>Convex_Hull_Area</th>\n",
       "      <th>Convex_Hull_Perimeter</th>\n",
       "      <th>Cell_Solidity</th>\n",
       "      <th>Cell_Convexity</th>\n",
       "      <th>Cell_Circularity</th>\n",
       "      <th>Ref_Image</th>\n",
       "    </tr>\n",
       "  </thead>\n",
       "  <tbody>\n",
       "    <tr>\n",
       "      <th>0</th>\n",
       "      <td>1</td>\n",
       "      <td>1081.078128</td>\n",
       "      <td>163.732608</td>\n",
       "      <td>67.983067</td>\n",
       "      <td>182.860704</td>\n",
       "      <td>53.460176</td>\n",
       "      <td>0.895395</td>\n",
       "      <td>0.786375</td>\n",
       "      <td>0.445188</td>\n",
       "      <td>2018-0153_OS_Pie8_72F_Mid-Peri_Z-stack</td>\n",
       "    </tr>\n",
       "    <tr>\n",
       "      <th>1</th>\n",
       "      <td>2</td>\n",
       "      <td>1814.589504</td>\n",
       "      <td>302.082768</td>\n",
       "      <td>209.888286</td>\n",
       "      <td>624.875472</td>\n",
       "      <td>105.442550</td>\n",
       "      <td>0.483429</td>\n",
       "      <td>0.502375</td>\n",
       "      <td>0.086171</td>\n",
       "      <td>2018-0153_OS_Pie8_72F_Mid-Peri_Z-stack</td>\n",
       "    </tr>\n",
       "    <tr>\n",
       "      <th>2</th>\n",
       "      <td>3</td>\n",
       "      <td>4311.171072</td>\n",
       "      <td>590.488704</td>\n",
       "      <td>215.949325</td>\n",
       "      <td>965.214432</td>\n",
       "      <td>148.879298</td>\n",
       "      <td>0.611769</td>\n",
       "      <td>0.689418</td>\n",
       "      <td>0.159117</td>\n",
       "      <td>2018-0153_OS_Pie8_72F_Mid-Peri_Z-stack</td>\n",
       "    </tr>\n",
       "    <tr>\n",
       "      <th>3</th>\n",
       "      <td>4</td>\n",
       "      <td>923.137488</td>\n",
       "      <td>165.095424</td>\n",
       "      <td>101.634883</td>\n",
       "      <td>268.888464</td>\n",
       "      <td>75.392673</td>\n",
       "      <td>0.613992</td>\n",
       "      <td>0.741799</td>\n",
       "      <td>0.200844</td>\n",
       "      <td>2018-0153_OS_Pie8_72F_Mid-Peri_Z-stack</td>\n",
       "    </tr>\n",
       "    <tr>\n",
       "      <th>4</th>\n",
       "      <td>5</td>\n",
       "      <td>346.544640</td>\n",
       "      <td>81.671616</td>\n",
       "      <td>90.069661</td>\n",
       "      <td>106.859376</td>\n",
       "      <td>41.771262</td>\n",
       "      <td>0.764291</td>\n",
       "      <td>0.463766</td>\n",
       "      <td>0.126510</td>\n",
       "      <td>2018-0153_OS_Pie8_72F_Mid-Peri_Z-stack</td>\n",
       "    </tr>\n",
       "    <tr>\n",
       "      <th>...</th>\n",
       "      <td>...</td>\n",
       "      <td>...</td>\n",
       "      <td>...</td>\n",
       "      <td>...</td>\n",
       "      <td>...</td>\n",
       "      <td>...</td>\n",
       "      <td>...</td>\n",
       "      <td>...</td>\n",
       "      <td>...</td>\n",
       "      <td>...</td>\n",
       "    </tr>\n",
       "    <tr>\n",
       "      <th>60</th>\n",
       "      <td>461</td>\n",
       "      <td>523.272672</td>\n",
       "      <td>86.198112</td>\n",
       "      <td>70.555722</td>\n",
       "      <td>149.569056</td>\n",
       "      <td>48.263237</td>\n",
       "      <td>0.576310</td>\n",
       "      <td>0.684044</td>\n",
       "      <td>0.217592</td>\n",
       "      <td>2018-0153_OS_Pie8_72F_Mid-Peri_Z-stack</td>\n",
       "    </tr>\n",
       "    <tr>\n",
       "      <th>61</th>\n",
       "      <td>542</td>\n",
       "      <td>156.991536</td>\n",
       "      <td>34.046064</td>\n",
       "      <td>40.931237</td>\n",
       "      <td>46.968480</td>\n",
       "      <td>32.344743</td>\n",
       "      <td>0.724870</td>\n",
       "      <td>0.790221</td>\n",
       "      <td>0.255368</td>\n",
       "      <td>2018-0153_OS_Pie8_72F_Mid-Peri_Z-stack</td>\n",
       "    </tr>\n",
       "    <tr>\n",
       "      <th>62</th>\n",
       "      <td>716</td>\n",
       "      <td>377.573040</td>\n",
       "      <td>51.543648</td>\n",
       "      <td>39.032472</td>\n",
       "      <td>70.306704</td>\n",
       "      <td>35.433385</td>\n",
       "      <td>0.733126</td>\n",
       "      <td>0.907793</td>\n",
       "      <td>0.425141</td>\n",
       "      <td>2018-0153_OS_Pie8_72F_Mid-Peri_Z-stack</td>\n",
       "    </tr>\n",
       "    <tr>\n",
       "      <th>63</th>\n",
       "      <td>760</td>\n",
       "      <td>337.954032</td>\n",
       "      <td>46.068048</td>\n",
       "      <td>34.109681</td>\n",
       "      <td>55.972800</td>\n",
       "      <td>32.534003</td>\n",
       "      <td>0.823043</td>\n",
       "      <td>0.953806</td>\n",
       "      <td>0.497570</td>\n",
       "      <td>2018-0153_OS_Pie8_72F_Mid-Peri_Z-stack</td>\n",
       "    </tr>\n",
       "    <tr>\n",
       "      <th>64</th>\n",
       "      <td>783</td>\n",
       "      <td>176.265648</td>\n",
       "      <td>34.484112</td>\n",
       "      <td>31.355212</td>\n",
       "      <td>43.293744</td>\n",
       "      <td>27.771804</td>\n",
       "      <td>0.796515</td>\n",
       "      <td>0.885716</td>\n",
       "      <td>0.440767</td>\n",
       "      <td>2018-0153_OS_Pie8_72F_Mid-Peri_Z-stack</td>\n",
       "    </tr>\n",
       "  </tbody>\n",
       "</table>\n",
       "<p>65 rows × 10 columns</p>\n",
       "</div>"
      ],
      "text/plain": [
       "    Microglia_ID  Cell_Volume   Cell_Area  Cell_Perimeter  Convex_Hull_Area  \\\n",
       "0              1  1081.078128  163.732608       67.983067        182.860704   \n",
       "1              2  1814.589504  302.082768      209.888286        624.875472   \n",
       "2              3  4311.171072  590.488704      215.949325        965.214432   \n",
       "3              4   923.137488  165.095424      101.634883        268.888464   \n",
       "4              5   346.544640   81.671616       90.069661        106.859376   \n",
       "..           ...          ...         ...             ...               ...   \n",
       "60           461   523.272672   86.198112       70.555722        149.569056   \n",
       "61           542   156.991536   34.046064       40.931237         46.968480   \n",
       "62           716   377.573040   51.543648       39.032472         70.306704   \n",
       "63           760   337.954032   46.068048       34.109681         55.972800   \n",
       "64           783   176.265648   34.484112       31.355212         43.293744   \n",
       "\n",
       "    Convex_Hull_Perimeter  Cell_Solidity  Cell_Convexity  Cell_Circularity  \\\n",
       "0               53.460176       0.895395        0.786375          0.445188   \n",
       "1              105.442550       0.483429        0.502375          0.086171   \n",
       "2              148.879298       0.611769        0.689418          0.159117   \n",
       "3               75.392673       0.613992        0.741799          0.200844   \n",
       "4               41.771262       0.764291        0.463766          0.126510   \n",
       "..                    ...            ...             ...               ...   \n",
       "60              48.263237       0.576310        0.684044          0.217592   \n",
       "61              32.344743       0.724870        0.790221          0.255368   \n",
       "62              35.433385       0.733126        0.907793          0.425141   \n",
       "63              32.534003       0.823043        0.953806          0.497570   \n",
       "64              27.771804       0.796515        0.885716          0.440767   \n",
       "\n",
       "                                 Ref_Image  \n",
       "0   2018-0153_OS_Pie8_72F_Mid-Peri_Z-stack  \n",
       "1   2018-0153_OS_Pie8_72F_Mid-Peri_Z-stack  \n",
       "2   2018-0153_OS_Pie8_72F_Mid-Peri_Z-stack  \n",
       "3   2018-0153_OS_Pie8_72F_Mid-Peri_Z-stack  \n",
       "4   2018-0153_OS_Pie8_72F_Mid-Peri_Z-stack  \n",
       "..                                     ...  \n",
       "60  2018-0153_OS_Pie8_72F_Mid-Peri_Z-stack  \n",
       "61  2018-0153_OS_Pie8_72F_Mid-Peri_Z-stack  \n",
       "62  2018-0153_OS_Pie8_72F_Mid-Peri_Z-stack  \n",
       "63  2018-0153_OS_Pie8_72F_Mid-Peri_Z-stack  \n",
       "64  2018-0153_OS_Pie8_72F_Mid-Peri_Z-stack  \n",
       "\n",
       "[65 rows x 10 columns]"
      ]
     },
     "metadata": {},
     "output_type": "display_data"
    }
   ],
   "source": [
    "# Get image file name\n",
    "ref_file = os.path.basename(FILE_PATH)\n",
    "ref_file = ref_file[:-4]\n",
    "ref_file = ref_file.replace(\" \", \"_\")\n",
    "print(ref_file)\n",
    "np.save(ref_file+\"_glia.npy\", seg2)\n",
    "\n",
    "# Dataframe to store results\n",
    "basic_measures_datatable = pd.DataFrame()\n",
    "\n",
    "# Make list of label keys and remove background label\n",
    "detected_glia = list(np.unique(seg2))\n",
    "detected_glia.pop(0)\n",
    "\n",
    "# Return basic measures for each microglia and add them to the dataframe\n",
    "for glia_int in detected_glia:\n",
    "    basic_measures_datatable = pd.concat([basic_measures_datatable, pd.DataFrame.from_records([returnMeasurements(seg2, glia_int, XYZ_SCALE)])])\n",
    "\n",
    "# Reindex dataframe\n",
    "basic_measures_datatable.reset_index(drop=True, inplace=True)\n",
    "\n",
    "# Add file used\n",
    "basic_measures_datatable['Ref_Image'] = ref_file\n",
    "\n",
    "display(basic_measures_datatable)\n",
    "\n",
    "#Save results to CSV\n",
    "basic_measures_datatable.to_csv(\"{}_basic_measure.csv\".format(ref_file))"
   ]
  },
  {
   "cell_type": "code",
   "execution_count": null,
   "id": "2be71fca",
   "metadata": {},
   "outputs": [],
   "source": []
  }
 ],
 "metadata": {
  "kernelspec": {
   "display_name": "Python 3 (ipykernel)",
   "language": "python",
   "name": "python3"
  },
  "language_info": {
   "codemirror_mode": {
    "name": "ipython",
    "version": 3
   },
   "file_extension": ".py",
   "mimetype": "text/x-python",
   "name": "python",
   "nbconvert_exporter": "python",
   "pygments_lexer": "ipython3",
   "version": "3.10.12"
  }
 },
 "nbformat": 4,
 "nbformat_minor": 5
}
